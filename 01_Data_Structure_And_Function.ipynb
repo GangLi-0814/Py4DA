{
 "cells": [
  {
   "cell_type": "markdown",
   "metadata": {},
   "source": [
    "# 前言"
   ]
  },
  {
   "cell_type": "markdown",
   "metadata": {},
   "source": [
    "## 社区与会议\n",
    "\n",
    "探讨数据科学相关的邮件列表:\n",
    "* pydata：一个Google群组列表，用以回答Python数据分析和pandas的问题；\n",
    "* pystatsmodels： statsmodels或pandas相关的问题；\n",
    "* scikit-learn和Python机器学习邮件列表，scikit-learn@python.org；\n",
    "* numpy-discussion：和NumPy相关的问题；\n",
    "* scipy-user：SciPy和科学计算的问题；\n",
    "\n",
    "Python 开发者大会：\n",
    "* PyCon和EuroPython：北美和欧洲的两大Python会议；\n",
    "* SciPy和EuroSciPy：北美和欧洲两大面向科学计算的会议；\n",
    "* PyData：世界范围内，一些列的地区性会议，专注数据科学和数据分析；\n",
    "* 国际和地区的PyCon会议（[http://pycon.org有完整列表）](http://pycon.org有完整列表）) 。\n"
   ]
  },
  {
   "cell_type": "markdown",
   "metadata": {},
   "source": [
    "## 行话\n",
    "\n",
    "* 数据规整（Munge/Munging/Wrangling） 指的是将非结构化和（或）散乱数据处理为结构化或整洁形式的整个过程。这几个词已经悄悄成为当今数据黑客们的行话了。Munge这个词跟Lunge押韵。\n",
    "\n",
    "* 伪码（Pseudocode） 算法或过程的“代码式”描述，而这些代码本身并不是实际有效的源代码。\n",
    "\n",
    "* 语法糖（Syntactic sugar） 这是一种编程语法，它并不会带来新的特性，但却能使代码更易读、更易写。\n",
    "\n"
   ]
  },
  {
   "cell_type": "markdown",
   "metadata": {},
   "source": [
    "## 推荐教程\n",
    "\n",
    "* (Python官网)[https://docs.python.org/3/],或是通用的Python教程书籍，比如：\n",
    "\n",
    "* Python Cookbook，第3版，David Beazley和Brian K. Jones著（O’Reilly）\n",
    "* 流畅的Python，Luciano Ramalho著 \\(O’Reilly\\)\n",
    "* 高效的Python，Brett Slatkin著 \\(Pearson\\)"
   ]
  },
  {
   "cell_type": "markdown",
   "metadata": {},
   "source": [
    "# 环境搭建"
   ]
  },
  {
   "cell_type": "markdown",
   "metadata": {},
   "source": [
    "## IPython 基础\n",
    "\n",
    "```python\n",
    "ipython\n",
    "```\n",
    "Jupyter Notebook 简介: **notebook是Jupyter项目的重要组件之一，它是一个代码、文本（有标记或无标记）、数据可视化或其它输出的交互式文档。Jupyter Notebook需要与内核互动，内核是Jupyter与其它编程语言的交互编程协议。**Python的Jupyter内核是使用IPython。\n",
    "\n",
    "- 自动补全：Tab 键\n",
    "- 自行：在变量前后使用 `?`，可以显示对象信息，``??` 会显示函数的源码\n",
    "- `%run` 可以运行所有 Python 程序\n",
    "- `%load` 将脚本导入到cell\n",
    "- 中断运行：`Ctrl+C`\n",
    "- 剪贴板执行程序：`paste` 和 `cpaste`，后者可以粘贴多行代码再运行\n",
    "- 魔术命令：\n",
    "![](Img/7178691-c72b11add9b8ccf8.png)\n",
    "- 集成 Matplotlib：在 Ipython Sell中：`%matplotlib`，在 Jupyter 中，`%matplotlib inline`\n"
   ]
  },
  {
   "cell_type": "markdown",
   "metadata": {},
   "source": [
    "# Python 语法基础\n",
    "\n",
    "- 使用缩进，而不是括号\n",
    "- 万物皆对象\n",
    "- 注释\n",
    "- 函数和对象的调用\n",
    "几乎每个对象都有附加的函数，称作方法。\n",
    "- 变量和传递参数\n",
    "**理解Python的引用的含义，数据是何时、如何、为何复制的，是非常重要的。尤其是当你用Python处理大的数据集时。**\n",
    "赋值也被称作为绑定，是把一个名字绑定给一个对象，变量名有时可能被称为绑定变量。\n",
    "-动态引用，强类型\n",
    "知道对象的类型很重要，最好让函数可以处理多种类型的输入。`isinstance` 函数可用于检查对象是否是某个对象的实例。\n",
    "- 属性和方法\n",
    "- 鸭子类型：你可能不关心对象的类型，只关心对象是否有某些方法或用途。比如下方，可以通过验证一个对象是否遵循迭代协议，判断它是可迭代的。\n",
    "\n",
    "```Python\n",
    "# 定义函数\n",
    "def isiterable(obj):\n",
    "    try:\n",
    "        iter(obj)\n",
    "        return True\n",
    "    except TypeError: # not iterable\n",
    "        return False\n",
    "\n",
    "# 检验\n",
    "isiterable('a string') # True\n",
    "isiterable(5) # False\n",
    "\n",
    "```\n",
    "\n",
    "- 引用库\n",
    "- 一元运算符和比较运算符\n",
    "![](Img/7178691-9fb5f25b33166acf.png)\n",
    "- 可变与不可变对象：字符串和元组是不可变的\n",
    "- 标量类型：\n",
    "![](Img/7178691-27a30ac3e7d262a1.png)\n",
    "- 数值类型：主要是 `int` 和 `float`\n",
    "- 字符串：切片，转义字符，`format` 方法格式化输出\n",
    "- 字节和 Unicode：`eocode()`\n",
    "（待补充）可以匹配最佳的编码方式\n",
    "- 布尔值\n",
    "- 类型转换：str、bool、int和float也是函数，可以用来转换类型\n",
    "- None：如果函数没有明确返回值，就会默认返回 None\n",
    "- 日期和时间：`datetime`模块，计算时间偏移量\n",
    "\n",
    "```Python\n",
    "from datetime import datetime, date, time\n",
    "\n",
    "dt = datetime(2011, 10, 29, 30, 21)\n",
    "\n",
    "dt.day # 29\n",
    "dt.minute # 30\n",
    "dt.date() # datetime.date(2011,10,29)\n",
    "dt.time() # datetime.time(20,30,21)\n",
    "\n",
    "# strftime 将 datetime 格式化为字符串\n",
    "dt.strftime('%m%d%Y %H:%M')\n",
    "# strptime 将字符串转化为 datetime 对象\n",
    "datetime.strptime('20091031','Y%m%d')\n",
    "```\n",
    "![格式化命令](img/7178691-100f9a20c1536553.png)\n",
    "\n",
    "- 控制流：`if/elif/else`,`for`,`while`,`range()`,`pass`,`continue/break`,三元表达式（虽然使用三元表达式可以压缩代码，但会降低代码可读性）\n",
    "\n",
    "```Python\n",
    "# 三元表达式\n",
    "# value = true-expr if condition else false-expr\n",
    "\n",
    "#等价于：\n",
    "if condition:\n",
    "    value = true-expr\n",
    "else:\n",
    "    value = false-expr\n",
    "```\n",
    "\n"
   ]
  },
  {
   "cell_type": "markdown",
   "metadata": {},
   "source": [
    "# Python的数据结构、函数和文件\n"
   ]
  },
  {
   "cell_type": "markdown",
   "metadata": {},
   "source": [
    "## 数据结构和序列\n",
    "\n",
    "Python最简单的数据结构：tuple, list,set,dict。"
   ]
  },
  {
   "cell_type": "markdown",
   "metadata": {},
   "source": [
    "### 元组\n",
    "\n",
    "固定长度，不可改变的 Python 序列对象。"
   ]
  },
  {
   "cell_type": "code",
   "execution_count": 235,
   "metadata": {},
   "outputs": [
    {
     "data": {
      "text/plain": [
       "(4, 5, 6)"
      ]
     },
     "execution_count": 235,
     "metadata": {},
     "output_type": "execute_result"
    }
   ],
   "source": [
    "# 元组拆分\n",
    "tup = (4, 5, 6)\n",
    "a, b, c = tup\n",
    "a, b, c"
   ]
  },
  {
   "cell_type": "code",
   "execution_count": 236,
   "metadata": {},
   "outputs": [
    {
     "name": "stdout",
     "output_type": "stream",
     "text": [
      "a=1,b=2,c=3\n",
      "a=4,b=5,c=6\n",
      "a=7,b=8,c=9\n"
     ]
    }
   ],
   "source": [
    "# 变量拆分常用来迭代元组或列表序列\n",
    "seq = [(1, 2, 3), (4, 5, 6), (7, 8, 9)]\n",
    "\n",
    "for a, b, c in seq:\n",
    "    print('a={0},b={1},c={2}'.format(a, b, c))"
   ]
  },
  {
   "cell_type": "code",
   "execution_count": 237,
   "metadata": {},
   "outputs": [
    {
     "name": "stdout",
     "output_type": "stream",
     "text": [
      "1 2\n",
      "[3, 4, 5, 6]\n"
     ]
    }
   ],
   "source": [
    "# 从元组的开头“摘取”几个元素\n",
    "values = 1, 2, 3, 4, 5, 6\n",
    "a, b, *rest = values  # rest 名字不重要\n",
    "print(a, b)\n",
    "print(rest)\n",
    "\n",
    "a, b, *_ = values  # 通常将不需要的变量使用下划线"
   ]
  },
  {
   "cell_type": "code",
   "execution_count": 238,
   "metadata": {},
   "outputs": [
    {
     "data": {
      "text/plain": [
       "4"
      ]
     },
     "execution_count": 238,
     "metadata": {},
     "output_type": "execute_result"
    }
   ],
   "source": [
    "# count 方法可以统计出现的频率\n",
    "a = (1, 2, 2, 2, 2, 3, 4, 4, 4, 5, 5)\n",
    "a.count(2)"
   ]
  },
  {
   "cell_type": "markdown",
   "metadata": {},
   "source": [
    "### 列表\n",
    "\n",
    "长度可变，内容可以被修改。可以使用方括号定义，或者 `list` 函数。`list` 函数常用来在数据处理中实体化迭代器或生成器。"
   ]
  },
  {
   "cell_type": "code",
   "execution_count": 239,
   "metadata": {},
   "outputs": [
    {
     "data": {
      "text/plain": [
       "[0, 1, 2, 3, 4, 5, 6, 7, 8, 9]"
      ]
     },
     "execution_count": 239,
     "metadata": {},
     "output_type": "execute_result"
    }
   ],
   "source": [
    "gen = range(10)\n",
    "list(gen)"
   ]
  },
  {
   "cell_type": "markdown",
   "metadata": {},
   "source": [
    "#### 添加和删除元素\n",
    "- 在末尾添加元素: `append()`\n",
    "- 指定位置插入元素：`insert()`\n",
    "\n",
    "> 警告：与``append``相比，``insert``耗费的计算量大，因为对后续元素的引用必须在内部迁移，以便为新元素提供空间。如果要在序列的头部和尾部插入元素，你可能需要使用``collections.deque``，一个双尾部队列。\n",
    "\n",
    "- 移除并返回指定位置的元素：`pop()`\n",
    "- 去除某个值（先寻找第一个）：`remove()`\n",
    "- 判断元素是/否在列表：`in` 和 `not in`\n",
    "\n"
   ]
  },
  {
   "cell_type": "markdown",
   "metadata": {},
   "source": [
    "#### 串联和组合列表\n",
    "\n",
    "- `+`：串联多个列表\n",
    "- `extend()`:追加多个元素\n",
    "\n",
    ">通过加法将列表串联的计算量较大，因为要新建一个列表，并且要复制对象。用``extend``追加元素，尤其是到一个大列表中，更为可取。\n",
    "\n",
    "```Python\n",
    "everything = []\n",
    "for chunk in list_of_lists:\n",
    "    everything.extend(chunk)\n",
    "```"
   ]
  },
  {
   "cell_type": "code",
   "execution_count": 240,
   "metadata": {},
   "outputs": [
    {
     "data": {
      "text/plain": [
       "[4, None, 'foo', 7, 8, (2, 3)]"
      ]
     },
     "execution_count": 240,
     "metadata": {},
     "output_type": "execute_result"
    }
   ],
   "source": [
    "[4, None, 'foo'] + [7, 8, (2, 3)]\n",
    "x = [4, None, 'foo']\n",
    "x.extend([7, 8, (2, 3)])\n",
    "x"
   ]
  },
  {
   "cell_type": "markdown",
   "metadata": {},
   "source": [
    "#### 排序\n",
    "\n",
    "- `sort()`:原地排序（不创建新对象）。 `sort` 有一些选项，有时会很好用。其中之一是二级排序key，可以用这个key进行排序。"
   ]
  },
  {
   "cell_type": "code",
   "execution_count": 241,
   "metadata": {},
   "outputs": [
    {
     "data": {
      "text/plain": [
       "['He', 'saw', 'six', 'small', 'foxes']"
      ]
     },
     "execution_count": 241,
     "metadata": {},
     "output_type": "execute_result"
    }
   ],
   "source": [
    "b = ['saw', 'small', 'He', 'foxes', 'six']\n",
    "b.sort(key=len)\n",
    "b"
   ]
  },
  {
   "cell_type": "markdown",
   "metadata": {},
   "source": [
    "##### 二分搜索和维护已排序列表\n",
    "\n",
    "`bisect` 模块支持二分查找，和向已排序的列表插入值。``bisect.bisect``可以找到插入值后仍保证排序的位置，``bisect.insort``是向这个位置插入值："
   ]
  },
  {
   "cell_type": "code",
   "execution_count": 242,
   "metadata": {},
   "outputs": [
    {
     "data": {
      "text/plain": [
       "[1, 2, 2, 2, 3, 4, 6, 7]"
      ]
     },
     "execution_count": 242,
     "metadata": {},
     "output_type": "execute_result"
    }
   ],
   "source": [
    "import bisect\n",
    "\n",
    "c = [1, 2, 2, 2, 3, 4, 7]\n",
    "bisect.bisect(c, 2)  # 4\n",
    "bisect.bisect(c, 5)  # 6\n",
    "bisect.insort(c, 6)\n",
    "c"
   ]
  },
  {
   "cell_type": "markdown",
   "metadata": {},
   "source": [
    ">注意：``bisect``模块不会检查列表是否已排好序，进行检查的话会耗费大量计算。因此，对未排序的列表使用``bisect``不会产生错误，但结果不一定正确。"
   ]
  },
  {
   "cell_type": "markdown",
   "metadata": {},
   "source": [
    "#### 切片\n",
    "\n",
    "- `[start:stop]`，下图为正整数和负整数的切片：\n",
    "\n",
    "![](Img/7178691-522e2b688b755ff3.png)\n"
   ]
  },
  {
   "cell_type": "markdown",
   "metadata": {},
   "source": [
    "#### 序列函数\n",
    "\n",
    "- enumerate 函数：返回 `(i,value)`元组序列\n"
   ]
  },
  {
   "cell_type": "code",
   "execution_count": 243,
   "metadata": {},
   "outputs": [
    {
     "data": {
      "text/plain": [
       "{'foo': 0, 'bar': 1, 'baz': 2}"
      ]
     },
     "execution_count": 243,
     "metadata": {},
     "output_type": "execute_result"
    }
   ],
   "source": [
    "'''跟踪当前项的序号\n",
    "i = 0\n",
    "for value in collection:\n",
    "    # do something with value\n",
    "    i += 1\n",
    "'''\n",
    "\n",
    "# 使用 enumerate函数\n",
    "some_list = ['foo', 'bar', 'baz']\n",
    "mapping = {}\n",
    "for i, v in enumerate(some_list):\n",
    "    mapping[v] = i\n",
    "\n",
    "mapping"
   ]
  },
  {
   "cell_type": "markdown",
   "metadata": {},
   "source": [
    "#### sorted 函数\n",
    "\n",
    "可以从任意序列的元素返回一个新的排好序的列表。可以接受和 `sort` 相同的参数。"
   ]
  },
  {
   "cell_type": "code",
   "execution_count": 244,
   "metadata": {},
   "outputs": [
    {
     "data": {
      "text/plain": [
       "[0, 1, 2, 2, 3, 6, 7]"
      ]
     },
     "execution_count": 244,
     "metadata": {},
     "output_type": "execute_result"
    }
   ],
   "source": [
    "sorted([7, 1, 2, 6, 0, 3, 2])"
   ]
  },
  {
   "cell_type": "code",
   "execution_count": 245,
   "metadata": {},
   "outputs": [
    {
     "data": {
      "text/plain": [
       "[' ', 'a', 'c', 'e', 'e', 'h', 'o', 'r', 'r', 's']"
      ]
     },
     "execution_count": 245,
     "metadata": {},
     "output_type": "execute_result"
    }
   ],
   "source": [
    "sorted('horse race')"
   ]
  },
  {
   "cell_type": "markdown",
   "metadata": {},
   "source": [
    "#### zip函数\n",
    "\n",
    "可以将多个列表、元组或者其他序列组成一个元组列表。"
   ]
  },
  {
   "cell_type": "code",
   "execution_count": 246,
   "metadata": {},
   "outputs": [
    {
     "data": {
      "text/plain": [
       "[('foo', 'one'), ('bar', 'two'), ('baz', 'three')]"
      ]
     },
     "execution_count": 246,
     "metadata": {},
     "output_type": "execute_result"
    }
   ],
   "source": [
    "seq1 = ['foo', 'bar', 'baz']\n",
    "seq2 = ['one', 'two', 'three']\n",
    "zipped = zip(seq1, seq2)\n",
    "list(zipped)"
   ]
  },
  {
   "cell_type": "markdown",
   "metadata": {},
   "source": [
    "可以处理任意多的序列，元素个数取决于最短的序列。"
   ]
  },
  {
   "cell_type": "code",
   "execution_count": 247,
   "metadata": {},
   "outputs": [
    {
     "data": {
      "text/plain": [
       "[('foo', 'one', False), ('bar', 'two', True)]"
      ]
     },
     "execution_count": 247,
     "metadata": {},
     "output_type": "execute_result"
    }
   ],
   "source": [
    "seq3 = [False, True]\n",
    "list(zip(seq1, seq2, seq3))"
   ]
  },
  {
   "cell_type": "code",
   "execution_count": 248,
   "metadata": {},
   "outputs": [
    {
     "name": "stdout",
     "output_type": "stream",
     "text": [
      "0:foo,one\n",
      "1:bar,two\n",
      "2:baz,three\n"
     ]
    }
   ],
   "source": [
    "# 同时迭代多个序列，结合 `enumerate` 使用\n",
    "\n",
    "for i, (a, b) in enumerate(zip(seq1, seq2)):\n",
    "    print('{0}:{1},{2}'.format(i, a, b))"
   ]
  },
  {
   "cell_type": "code",
   "execution_count": 249,
   "metadata": {},
   "outputs": [
    {
     "data": {
      "text/plain": [
       "('Ryan', 'Clemens', 'Curt')"
      ]
     },
     "execution_count": 249,
     "metadata": {},
     "output_type": "execute_result"
    }
   ],
   "source": [
    "# 解压\n",
    "pitchers = [('Nolan', 'Ryan'), ('Roger', 'Clemens'), ('Schilling', 'Curt')]\n",
    "first_names, last_names = zip(*pitchers)\n",
    "first_names\n",
    "last_names"
   ]
  },
  {
   "cell_type": "markdown",
   "metadata": {},
   "source": [
    "#### reversed函数\n",
    "\n",
    "可以从后向前迭代一个序列。\n",
    "\n",
    "> `reserved` 是一个生成器，只有实体化（即列表或`for`循环）之后才能创建翻转的序列。"
   ]
  },
  {
   "cell_type": "code",
   "execution_count": 250,
   "metadata": {},
   "outputs": [
    {
     "data": {
      "text/plain": [
       "[9, 8, 7, 6, 5, 4, 3, 2, 1, 0]"
      ]
     },
     "execution_count": 250,
     "metadata": {},
     "output_type": "execute_result"
    }
   ],
   "source": [
    "list(reversed(range(10)))"
   ]
  },
  {
   "cell_type": "markdown",
   "metadata": {},
   "source": [
    "### 字典\n",
    "\n",
    "- 可以用``del``关键字或``pop``方法（返回值的同时删除键）删除值。\n",
    "- ``keys``和``values``是字典的键和值的迭代器方法。虽然键值对没有顺序，这两个方法可以用相同的顺序输出键和值。\n",
    "- `update` 方法可以将一个字典与另一个融合。`update`方法是原地改变字典，因此任何传递给 `update` 的键的旧值都会被舍弃。\n",
    "\n",
    "- 字典的值可以是任意Python对象，而键通常是不可变的标量类型（整数、浮点型、字符串）或元组（元组中的对象必须是不可变的）。这被称为“可哈希性”。可以用``hash``函数检测一个对象是否是可哈希的（可被用作字典的键）。"
   ]
  },
  {
   "cell_type": "code",
   "execution_count": 251,
   "metadata": {},
   "outputs": [
    {
     "data": {
      "text/plain": [
       "'\\na | b\\n\\n# 通过 | 进行合并的时候，如果字典里面有相同的键，那么从左到右，会取最后出现的值。\\n'"
      ]
     },
     "execution_count": 251,
     "metadata": {},
     "output_type": "execute_result"
    }
   ],
   "source": [
    "# 如何将两个字典融合？\n",
    "a = {'name': 'Bob', 'Age': 20}\n",
    "b = {'gender': 'male'}\n",
    "\n",
    "# method1\n",
    "c = a.copy()  # 添加临时变量\n",
    "c.update(b)\n",
    "\n",
    "# method 2\n",
    "c = {**a, **b}  # * 占位符\n",
    "\n",
    "# method 3\n",
    "c = dict(a, **b)\n",
    "\n",
    "# Python 3.9把 | 和 |= 操作符内置，也可用于其他数据类型\n",
    "'''\n",
    "a | b\n",
    "\n",
    "# 通过 | 进行合并的时候，如果字典里面有相同的键，那么从左到右，会取最后出现的值。\n",
    "'''"
   ]
  },
  {
   "cell_type": "code",
   "execution_count": 252,
   "metadata": {},
   "outputs": [
    {
     "ename": "NameError",
     "evalue": "name 'key_list' is not defined",
     "output_type": "error",
     "traceback": [
      "\u001b[1;31m---------------------------------------------------------------------------\u001b[0m",
      "\u001b[1;31mNameError\u001b[0m                                 Traceback (most recent call last)",
      "\u001b[1;32m<ipython-input-252-c9680b70797f>\u001b[0m in \u001b[0;36m<module>\u001b[1;34m\u001b[0m\n\u001b[0;32m      1\u001b[0m \u001b[1;31m# 用序列创建字典\u001b[0m\u001b[1;33m\u001b[0m\u001b[1;33m\u001b[0m\u001b[1;33m\u001b[0m\u001b[0m\n\u001b[0;32m      2\u001b[0m \u001b[0mmapping\u001b[0m \u001b[1;33m=\u001b[0m \u001b[1;33m{\u001b[0m\u001b[1;33m}\u001b[0m\u001b[1;33m\u001b[0m\u001b[1;33m\u001b[0m\u001b[0m\n\u001b[1;32m----> 3\u001b[1;33m \u001b[1;32mfor\u001b[0m \u001b[0mkey\u001b[0m\u001b[1;33m,\u001b[0m \u001b[0mvalue\u001b[0m \u001b[1;32min\u001b[0m \u001b[0mzip\u001b[0m\u001b[1;33m(\u001b[0m\u001b[0mkey_list\u001b[0m\u001b[1;33m,\u001b[0m \u001b[0mvalue_list\u001b[0m\u001b[1;33m)\u001b[0m\u001b[1;33m:\u001b[0m\u001b[1;33m\u001b[0m\u001b[1;33m\u001b[0m\u001b[0m\n\u001b[0m\u001b[0;32m      4\u001b[0m     \u001b[0mmapping\u001b[0m\u001b[1;33m[\u001b[0m\u001b[0mkey\u001b[0m\u001b[1;33m]\u001b[0m \u001b[1;33m=\u001b[0m \u001b[0mvalue\u001b[0m\u001b[1;33m\u001b[0m\u001b[1;33m\u001b[0m\u001b[0m\n",
      "\u001b[1;31mNameError\u001b[0m: name 'key_list' is not defined"
     ]
    }
   ],
   "source": [
    "# 用序列创建字典\n",
    "mapping = {}\n",
    "for key, value in zip(key_list, value_list):\n",
    "    mapping[key] = value"
   ]
  },
  {
   "cell_type": "code",
   "execution_count": null,
   "metadata": {},
   "outputs": [],
   "source": [
    "# 默认值\n",
    "if key in some_dict:\n",
    "    value = some_dict[key]\n",
    "else:\n",
    "    value = default_value\n",
    "\n",
    "# 等价于：\n",
    "value = some_dict.get(key, defualt_value)"
   ]
  },
  {
   "cell_type": "code",
   "execution_count": null,
   "metadata": {},
   "outputs": [],
   "source": [
    "words = ['apple', 'bat', 'bar', 'atom', 'book']\n",
    "\n",
    "by_letter = {}\n",
    "for word in words:\n",
    "    letter = word[0]\n",
    "    if letter not in by_letter:\n",
    "        by_letter[letter] = [word]\n",
    "    else:\n",
    "        by_letter[letter].append(word)\n",
    "\n",
    "by_letter"
   ]
  },
  {
   "cell_type": "code",
   "execution_count": null,
   "metadata": {},
   "outputs": [],
   "source": [
    "# set_default\n",
    "by_letter2 = {}\n",
    "for word in words:\n",
    "    letter = word[0]\n",
    "    by_letter2.setdefault(letter, []).append(word)\n",
    "by_letter2"
   ]
  },
  {
   "cell_type": "code",
   "execution_count": null,
   "metadata": {},
   "outputs": [],
   "source": [
    "# collections 模块中 defaultdict 类\n",
    "# 传递类型或函数以生成每个位置的默认值\n",
    "\n",
    "from collections import defaultdict\n",
    "by_letter = defaultdict(list)\n",
    "for word in words:\n",
    "    by_letter[word[0]].append(word)\n",
    "by_letter"
   ]
  },
  {
   "cell_type": "markdown",
   "metadata": {},
   "source": [
    "### 集合\n",
    "\n",
    "- 集合是无序的不可重复的元素的集合，可以把它当成没有键和值的字典。\n",
    "- 通过 `set` 或者使用尖括号 `{}` set语句。\n",
    "- 集合支持合并、交集、差分和对称差等数学集合运算。\n",
    "![集合操作](Img/7178691-980efe5d98ecc4d6.png)"
   ]
  },
  {
   "cell_type": "code",
   "execution_count": null,
   "metadata": {},
   "outputs": [],
   "source": [
    "a = {1, 2, 3, 4, 5, 6, 7}\n",
    "b = {4, 5, 6, 7, 8, 9}\n",
    "\n",
    "# 并集\n",
    "a.union(b)\n",
    "a | b\n",
    "\n",
    "# 交集\n",
    "a.intersection(b)\n",
    "a & b\n",
    "\n",
    "# 检验是否是子集或父集\n",
    "a_set = {1, 2, 3, 4, 5}\n",
    "{1, 2, 3}.issubset(a_set)  # True\n",
    "a_set.issuperset({1, 2, 3})  # True\n",
    "\n",
    "# 集合内容相同才对等\n",
    "{1, 2, 3} == {3, 2, 1}  # True"
   ]
  },
  {
   "cell_type": "markdown",
   "metadata": {},
   "source": [
    "> 所谓逻辑集合操作都有另外的原地实现方法，可以直接用结果替代集合的内容。对于大集合这么做的效率更高。"
   ]
  },
  {
   "cell_type": "code",
   "execution_count": null,
   "metadata": {},
   "outputs": [],
   "source": [
    "# 并集\n",
    "c = a.copy()\n",
    "c |= b\n",
    "c"
   ]
  },
  {
   "cell_type": "code",
   "execution_count": null,
   "metadata": {},
   "outputs": [],
   "source": [
    "# 交集\n",
    "d = a.copy()\n",
    "d &= b\n",
    "d"
   ]
  },
  {
   "cell_type": "markdown",
   "metadata": {},
   "source": [
    "### 列表、集合和字典推导式\n",
    "\n",
    "#### 列表推导式\n",
    "\n",
    "> 列表推导式是 Python 最受喜爱的特性之一。它允许用户方便的从一个集合过滤元素，形成列表，在传递参数过程中还可以修改元素。\n",
    "\n",
    "```Python\n",
    "[expr for val in collection if condition]\n",
    "```\n",
    "\n",
    "等价于：\n",
    "```Python\n",
    "result = []\n",
    "for val in collection:\n",
    "    if codition:\n",
    "        result.append(expr)\n",
    "```\n",
    "\n",
    "#### 字典推导式\n",
    "\n",
    "```Python\n",
    "dict_comp = {key-expr: value-expr for val in collection if condition}\n",
    "```\n",
    "\n",
    "#### 集合推导式\n",
    "```Python\n",
    "set_comp = {expr for value in collection if condition}\n",
    "```\n",
    "\n",
    "##### 嵌套列表推导式\n"
   ]
  },
  {
   "cell_type": "code",
   "execution_count": null,
   "metadata": {},
   "outputs": [],
   "source": [
    "# 列表推导式\n",
    "strings = ['a', 'as', 'bat', 'car', 'dove', 'python']\n",
    "[x.upper() for x in strings if len(x) > 2]"
   ]
  },
  {
   "cell_type": "code",
   "execution_count": null,
   "metadata": {},
   "outputs": [],
   "source": [
    "# 集合推导式\n",
    "unique_lengths = {len(x) for x in strings}\n",
    "print(unique_lengths)\n",
    "\n",
    "# 使用 map() 函数进一步简化\n",
    "set(map(len, strings))"
   ]
  },
  {
   "cell_type": "code",
   "execution_count": null,
   "metadata": {},
   "outputs": [],
   "source": [
    "# 字典推导式\n",
    "# 功能：字符串的查找映射表\n",
    "loc_mapping = {val: index for index, val in enumerate(strings)}\n",
    "loc_mapping"
   ]
  },
  {
   "cell_type": "code",
   "execution_count": null,
   "metadata": {},
   "outputs": [],
   "source": [
    "# 嵌套列表推导式\n",
    "# 功能：找出名字中包含两个或更多的e\n",
    "\n",
    "# for 循环\n",
    "all_data = [['John', 'Emily', 'Michael', 'Mary', 'Steven'],\n",
    "            ['Maria', 'Juan', 'Javier', 'Natalia', 'Pilar']]\n",
    "\n",
    "names_of_interest = []\n",
    "for names in all_data:\n",
    "    enough_es = [name for name in names if name.count('e') >= 2]\n",
    "    names_of_interest.extend(enough_es)\n",
    "\n",
    "# 嵌套列表推导式\n",
    "result = [name for names in all_data for name in names if name.count('e') >= 2]\n",
    "result"
   ]
  },
  {
   "cell_type": "code",
   "execution_count": null,
   "metadata": {},
   "outputs": [],
   "source": [
    "'''将整数元组的列表扁平为一个整数列表\n",
    "'''\n",
    "\n",
    "some_tuples = [(1, 2, 3), (4, 5, 6), (7, 8, 9)]\n",
    "flattened = [x for tup in some_tuples for x in tup]\n",
    "print(flattened)\n",
    "\n",
    "# 等价于：\n",
    "flattened = []\n",
    "for tup in some_tuples:\n",
    "    for x in tup:\n",
    "        flattened.append(x)\n",
    "print(flattened)"
   ]
  },
  {
   "cell_type": "code",
   "execution_count": null,
   "metadata": {
    "scrolled": true
   },
   "outputs": [],
   "source": [
    "# 补充：压平嵌套列表：Python嵌套列表转为一维\n",
    "a = [[1, 2], [3, 4], [5, 6]]\n",
    "\n",
    "# for 循环\n",
    "a1 = []\n",
    "for i in a:\n",
    "    for j in i:\n",
    "        a1.append(j)\n",
    "print(a1)\n",
    "\n",
    "#列表推导式\n",
    "a2 = [j for i in a for j in i]\n",
    "print(a2)\n",
    "\n",
    "# extend()\n",
    "a3 = []\n",
    "[a3.extend(i) for i in a]\n",
    "print(a3)\n",
    "\n",
    "# sum()\n",
    "a4 = sum(a, [])\n",
    "print(a4)\n",
    "\n",
    "# reduce + lambda\n",
    "from functools import reduce\n",
    "a5 = reduce(lambda x, y: x + y, a)\n",
    "print(a5)"
   ]
  },
  {
   "cell_type": "markdown",
   "metadata": {},
   "source": [
    "[待阅文章：列表推导式](https://mp.weixin.qq.com/s?__biz=MzI1MTE2ODg4MA==&mid=2650068648&idx=1&sn=b9366bac528d36b1c16b9ca7e724be0f&chksm=f1f767b7c680eea1f36e07c53c800eba8776191513dca2cd90e2f03a2f59e39f9607cfd82c2c&mpshare=1&scene=1&srcid=030984SAlZzvLb3AeKiKRvDc&sharer_sharetime=1583762615248&sharer_shareid=9b31af13aac29b96ba0f395a0d519643&key=69ea9b9548bd5827ff5a7176e019186bb728a095f9b2e700f023ecab11f4aeb53eeb30d2410b5fbe4ff79bf36389173ccf471f0483f226345ff2fcc4ee04e8cd56c8522449c77df4c5b129e197446ef4&ascene=1&uin=MTk2MzA0MTI3NA%3D%3D&devicetype=Windows+10&version=6208006f&lang=zh_CN&exportkey=A8P0VWYnG9Nvjmgqaae9SnA%3D&pass_ticket=%2BDgIHzuqkcTm%2B4pCTM4gnc6xlt%2BV4zD1iUkjXXtjv8%2B304Wyo4hu6S6kFIUZ%2F2Nl)"
   ]
  },
  {
   "cell_type": "code",
   "execution_count": null,
   "metadata": {},
   "outputs": [],
   "source": [
    "# 列表推导式可以有任意多级别嵌套\n",
    "[[x for x in tup] for tup in some_tuples]  # 产生嵌套列表"
   ]
  },
  {
   "cell_type": "markdown",
   "metadata": {},
   "source": [
    "## 函数"
   ]
  },
  {
   "cell_type": "code",
   "execution_count": null,
   "metadata": {},
   "outputs": [],
   "source": [
    "def my_function(x, y, z=1.5):\n",
    "    '''x,y 是位置参数，z 是关键字参数\n",
    "    '''\n",
    "    if z > 1:\n",
    "        return z * (x + y)\n",
    "    else:\n",
    "        return z / (x + y)"
   ]
  },
  {
   "cell_type": "markdown",
   "metadata": {},
   "source": [
    "### 命令空间、作用域和局部函数\n",
    "\n",
    "- 函数可以访问两种不同作用域中的变量：全局（global）和局部（local）。\n",
    "- Python有一种更科学的用于描述变量作用域的名称，即命名空间（namespace）。任何在函数中赋值的变量默认都是被分配到局部命名空间（local namespace）中的。局部命名空间是在函数被调用时创建的，函数参数会立即填入该命名空间。在函数执行完毕之后，局部命名空间就会被销毁（会有一些例外的情况，具体请参见后面介绍闭包的那一节）。"
   ]
  },
  {
   "cell_type": "code",
   "execution_count": null,
   "metadata": {},
   "outputs": [],
   "source": [
    "# 局部\n",
    "def func():\n",
    "    a = []\n",
    "    for i in range(5):\n",
    "        a.append(i)\n",
    "\n",
    "\n",
    "'''\n",
    "局部变量：\n",
    "调用 func() 后，首先创建空列表a，\n",
    "然后添加 5 个元素，最后a会在该函数退出时销毁。\n",
    "'''"
   ]
  },
  {
   "cell_type": "code",
   "execution_count": null,
   "metadata": {},
   "outputs": [],
   "source": [
    "# 全局\n",
    "a = []\n",
    "\n",
    "\n",
    "def func():\n",
    "    for i in range(5):\n",
    "        a.append(i)\n",
    "\n",
    "\n",
    "'''\n",
    "全局变量：\n",
    "虽然可以在函数中对全局变量进行赋值，\n",
    "但是那些变量必须用global关键字声明成全局才行。\n",
    "'''"
   ]
  },
  {
   "cell_type": "code",
   "execution_count": null,
   "metadata": {},
   "outputs": [],
   "source": [
    "# 全局声明\n",
    "\n",
    "a = None\n",
    "\n",
    "\n",
    "def bind_a_variable():\n",
    "    global a\n",
    "    a = []\n",
    "    bind_a_variable()\n",
    "\n",
    "\n",
    "print(a)\n",
    "'''\n",
    "注意：我常常建议人们不要频繁使用global关键字。\n",
    "因为全局变量一般是用于存放系统的某些状态的。\n",
    "如果你发现自己用了很多，那可能就说明得要来点儿面向对象编程了（即使用类）。\n",
    "'''"
   ]
  },
  {
   "cell_type": "markdown",
   "metadata": {},
   "source": [
    "### 函数返回多个值"
   ]
  },
  {
   "cell_type": "code",
   "execution_count": null,
   "metadata": {},
   "outputs": [],
   "source": [
    "def f():\n",
    "    a = 5\n",
    "    b = 6\n",
    "    c = 7\n",
    "    return a, b, c\n",
    "\n",
    "\n",
    "print(f())  # 返回为元组，再将其拆包到各个结果变量\n",
    "return_value = f()"
   ]
  },
  {
   "cell_type": "code",
   "execution_count": null,
   "metadata": {},
   "outputs": [],
   "source": [
    "# 返回字典（取决于工作内容，这种方法可能很有用）\n",
    "def f():\n",
    "    a = 5\n",
    "    b = 6\n",
    "    c = 7\n",
    "    return {'a': a, 'b': b, 'c': c}"
   ]
  },
  {
   "cell_type": "markdown",
   "metadata": {},
   "source": [
    "### 函数也是对象"
   ]
  },
  {
   "cell_type": "code",
   "execution_count": null,
   "metadata": {},
   "outputs": [],
   "source": [
    "# 清理字符串\n",
    "import re\n",
    "\n",
    "states = [\n",
    "    '   Alabama ', 'Georgia!', 'Georgia', 'georgia', 'FlOrIda',\n",
    "    'south   carolina##', 'West virginia?'\n",
    "]\n",
    "\n",
    "\n",
    "def clean_strings(strings):\n",
    "    result = []\n",
    "    for value in strings:\n",
    "        value = value.strip()  # 去除空格\n",
    "        value = re.sub('[!#?]', '', value)\n",
    "        value = value.title()  # 转为首字母大写\n",
    "        result.append(value)\n",
    "    return result\n",
    "\n",
    "\n",
    "clean_strings(states)"
   ]
  },
  {
   "cell_type": "code",
   "execution_count": null,
   "metadata": {},
   "outputs": [],
   "source": [
    "# 多函数模式\n",
    "\n",
    "\n",
    "def remove_punctuation(value):\n",
    "    return re.sub('[!#?]', '', value)\n",
    "\n",
    "\n",
    "# 需要进行的所有运算做成列表，然后在其中进行循环，依次清理\n",
    "clean_ops = [str.strip, remove_punctuation, str.title]\n",
    "\n",
    "\n",
    "def clean_strings(strings, ops):\n",
    "    result = []\n",
    "    for value in strings:\n",
    "        for function in ops:\n",
    "            value = function(value)\n",
    "        result.append(value)\n",
    "    return result\n",
    "\n",
    "\n",
    "clean_strings(states, clean_ops)\n",
    "'''评价：多函数模式使得可以在很高的层次上轻松修改字符串的转换方式，\n",
    "clean_strings() 函数也更具有可复用性。\n",
    "'''"
   ]
  },
  {
   "cell_type": "code",
   "execution_count": null,
   "metadata": {},
   "outputs": [],
   "source": [
    "# 函数用作其他函数参数\n",
    "for x in map(remove_punctuation, states):\n",
    "    print(x)"
   ]
  },
  {
   "cell_type": "markdown",
   "metadata": {},
   "source": [
    "### 匿名（lambda）函数\n",
    "\n",
    "- 由单条语句组成，该句的结果就是返回值。\n",
    "- 在数据分析过程中，很多数据转换函数都以函数作为参数，所以 lambda 函数很方便。\n",
    "\n",
    ">说明：lambda函数之所以会被称为匿名函数，与def声明的函数不同，原因之一就是这种函数对象本身是没有提供名称__name__属性。"
   ]
  },
  {
   "cell_type": "code",
   "execution_count": null,
   "metadata": {},
   "outputs": [],
   "source": [
    "def short_function(x):\n",
    "    return x * 2\n",
    "\n",
    "\n",
    "# 等价于：\n",
    "equiv_anon = lambda x: x * 2"
   ]
  },
  {
   "cell_type": "code",
   "execution_count": null,
   "metadata": {},
   "outputs": [],
   "source": [
    "def apply_to_list(some_list, f):\n",
    "    return [f(x) for x in some_list]\n",
    "\n",
    "\n",
    "ints = [4, 0, 1, 5, 6]\n",
    "apply_to_list(ints, lambda x: x * 2)"
   ]
  },
  {
   "cell_type": "code",
   "execution_count": null,
   "metadata": {},
   "outputs": [],
   "source": [
    "# 应用：按照字符长度进行排序\n",
    "strings = ['foo', 'card', 'bar', 'aaaa', 'abab']\n",
    "\n",
    "strings.sort(key=lambda x: len(set(list(x))))\n",
    "strings"
   ]
  },
  {
   "cell_type": "markdown",
   "metadata": {},
   "source": [
    "### 柯里化：部分参数应用\n",
    "\n",
    "柯里化（currying）是一个有趣的计算机科学术语，它指的是通过“部分参数应用”（partial argument application）从现有函数派生出新函数的技术。"
   ]
  },
  {
   "cell_type": "code",
   "execution_count": null,
   "metadata": {},
   "outputs": [],
   "source": [
    "def add_numbers(x, y):\n",
    "    '''两数相加\n",
    "    '''\n",
    "    return x + y\n",
    "\n",
    "\n",
    "# 通过此函数，可以派生出一个新的只有一个参数的函数 add_five它用于对其参数加5。\n",
    "# add_numbers的第二个参数称为“柯里化的”（curried）\n",
    "add_five = lambda y: add_numbers(5, y)"
   ]
  },
  {
   "cell_type": "code",
   "execution_count": null,
   "metadata": {},
   "outputs": [],
   "source": [
    "# 内置的functools模块可以用partial函数将此过程简化\n",
    "from functools import partial\n",
    "add_five = partial(add_numbers, 5)"
   ]
  },
  {
   "cell_type": "markdown",
   "metadata": {},
   "source": [
    "### 生成器\n",
    "\n",
    "能以一种一致的方式对序列进行迭代（比如列表中的对象或文件中的行）是Python的一个重要特点。这是通过一种叫做迭代器协议（iterator protocol，它是一种使对象可迭代的通用方式）的方式实现的，一个原生的使对象可迭代的方法。"
   ]
  },
  {
   "cell_type": "code",
   "execution_count": null,
   "metadata": {},
   "outputs": [],
   "source": [
    "# 对字典迭代，得到所有的键\n",
    "some_dict = {'a': 1, 'b': 2, 'c': 3}\n",
    "for key in some_dict:\n",
    "    print(key)"
   ]
  },
  {
   "cell_type": "markdown",
   "metadata": {},
   "source": [
    "当编写 `for key in some_dict` 时，Python 解释器首先会尝试从 `some_dict` 创建一个迭代器："
   ]
  },
  {
   "cell_type": "code",
   "execution_count": null,
   "metadata": {},
   "outputs": [],
   "source": [
    "dict_iterator = iter(some_dict)\n",
    "dict_iterator  # <dict_keyiterator at 0x1ee791cfbd8>"
   ]
  },
  {
   "cell_type": "markdown",
   "metadata": {},
   "source": [
    "迭代器是一种特殊对象，它可以在诸如 `for` 循环之类的上下文中向 Python 解释器输送对象。\n",
    "\n",
    "大部分能接受列表之类的对象的方法也都可以接受任何可迭代对象。比如 `min`、`max`、`sum` 等内置方法以及 list 、tuple 等类型构造器。"
   ]
  },
  {
   "cell_type": "code",
   "execution_count": null,
   "metadata": {},
   "outputs": [],
   "source": [
    "list(dict_iterator)"
   ]
  },
  {
   "cell_type": "markdown",
   "metadata": {},
   "source": [
    "生成器（generator）是构造新的可迭代对象的一种简单方式。\n",
    "\n",
    "一般的函数执行之后只会返回单个值，而生成器则是以延迟的方式返回一个值序列，即每返回一个值之后暂停，直到下一个值被请求时再继续。**要创建一个生成器，只需将函数中的 `return` 替换为 `yeild` 即可："
   ]
  },
  {
   "cell_type": "code",
   "execution_count": 253,
   "metadata": {},
   "outputs": [],
   "source": [
    "def squares(n=10):\n",
    "    print('Generating squares from 1 to {0}'.format(n**2))\n",
    "    for i in range(1, n + 1):\n",
    "        yield i**2"
   ]
  },
  {
   "cell_type": "code",
   "execution_count": 254,
   "metadata": {},
   "outputs": [
    {
     "data": {
      "text/plain": [
       "<generator object squares at 0x000001EE784DBC48>"
      ]
     },
     "execution_count": 254,
     "metadata": {},
     "output_type": "execute_result"
    }
   ],
   "source": [
    "gen = squares()  # 调用时，代码将不会立即执行\n",
    "gen  # <generator object squares at 0x000001EE78FAF848>"
   ]
  },
  {
   "cell_type": "code",
   "execution_count": 255,
   "metadata": {},
   "outputs": [
    {
     "name": "stdout",
     "output_type": "stream",
     "text": [
      "Generating squares from 1 to 100\n",
      "1 4 9 16 25 36 49 64 81 100 "
     ]
    }
   ],
   "source": [
    "for x in gen:  # 从生成器请求元素时，才会执行其代码\n",
    "    print(x, end=' ')"
   ]
  },
  {
   "cell_type": "markdown",
   "metadata": {},
   "source": [
    "### 生成器表达式\n",
    "\n",
    "另一种更简洁的构造生成器的方法是使用生成器表达式（generator expression）。这是一种类似于列表、字典、集合推导式的生成器。其创建方式为，把列表推导式两端的方括号改成圆括号。"
   ]
  },
  {
   "cell_type": "code",
   "execution_count": 256,
   "metadata": {},
   "outputs": [],
   "source": [
    "gen = (x**2 for x in range(100))\n",
    "gen  # <generator object <genexpr> at 0x000001EE7877F048>\n",
    "\n",
    "\n",
    "# 等价于：\n",
    "def _make_gen():\n",
    "    for x in range(100):\n",
    "        yield x**2\n",
    "\n",
    "\n",
    "gen = _make_gen()"
   ]
  },
  {
   "cell_type": "code",
   "execution_count": 257,
   "metadata": {},
   "outputs": [
    {
     "data": {
      "text/plain": [
       "{0: 0, 1: 1, 2: 4, 3: 9, 4: 16}"
      ]
     },
     "execution_count": 257,
     "metadata": {},
     "output_type": "execute_result"
    }
   ],
   "source": [
    "# 生成器表达式也可以用于取代列表推导式，作为函数参数\n",
    "sum(x**2 for x in range(100))\n",
    "dict((i, i**2) for i in range(5))"
   ]
  },
  {
   "cell_type": "code",
   "execution_count": 258,
   "metadata": {},
   "outputs": [
    {
     "data": {
      "text/plain": [
       "2500"
      ]
     },
     "execution_count": 258,
     "metadata": {},
     "output_type": "execute_result"
    }
   ],
   "source": [
    "# 求 100 以内奇数和\n",
    "sum((x for x in range(100) if x % 2 == 1))"
   ]
  },
  {
   "cell_type": "markdown",
   "metadata": {},
   "source": [
    "### itertools 模块\n",
    "标准库itertools模块中有一组用于许多常见数据算法的生成器。例如，groupby可以接受任何序列和一个函数。它根据函数的返回值对序列中的连续元素进行分组。\n",
    "\n",
    "常用 itertools 函数：\n",
    "\n",
    "![](Img/7178691-111823d8767a104d.png)"
   ]
  },
  {
   "cell_type": "code",
   "execution_count": 259,
   "metadata": {},
   "outputs": [
    {
     "name": "stdout",
     "output_type": "stream",
     "text": [
      "A ['Alan', 'Adam']\n",
      "W ['Wes', 'Will']\n",
      "A ['Albert']\n",
      "S ['Steven']\n"
     ]
    }
   ],
   "source": [
    "import itertools\n",
    "first_letter = lambda x: x[0]\n",
    "names = ['Alan', 'Adam', 'Wes', 'Will', 'Albert', 'Steven']\n",
    "\n",
    "for letter, names in itertools.groupby(names, first_letter):\n",
    "    print(letter, list(names))  # names is a generator"
   ]
  },
  {
   "cell_type": "markdown",
   "metadata": {},
   "source": [
    "## 错误和异常处理\n",
    "\n",
    "- 捕获异常\n",
    "\n",
    "```Python\n",
    "def attempt_float(x):\n",
    "    try:\n",
    "        return float(x)\n",
    "    except:\n",
    "        return x\n",
    "```\n",
    "\n",
    "- 指定多个异常\n",
    "\n",
    "```Python\n",
    "def attempt_float(x):\n",
    "    try:\n",
    "        return float(x)\n",
    "    except (ValueError, TypeError):\n",
    "        return x\n",
    "```\n",
    "\n",
    "- `finally`\n",
    "\n",
    "```Python\n",
    "f = open(path, 'w')\n",
    "\n",
    "try:\n",
    "    write_to_file(f)\n",
    "except:\n",
    "    print('Failed')\n",
    "else:\n",
    "    print('Succeeded')\n",
    "finally: # 不管是否会报错，文件总会被关闭\n",
    "    f.close()\n",
    "```"
   ]
  },
  {
   "cell_type": "markdown",
   "metadata": {},
   "source": [
    "## 文件和操作系统\n",
    "\n",
    "文件读写模式：\n",
    "![](Img/7178691-28274484129f0ea7.png)\n",
    "\n",
    "如果输入f =open(path,'w')，就会有一个新文件被创建在examples/segismundo.txt，并覆盖掉该位置原来的任何数据。另外有一个x文件模式，它可以创建可写的文件，但是如果文件路径存在，就无法创建。"
   ]
  },
  {
   "cell_type": "code",
   "execution_count": 260,
   "metadata": {},
   "outputs": [],
   "source": [
    "# 使用内置 open() 打开文件\n",
    "\n",
    "path = 'Examples/segismundo.txt'\n",
    "f = open(path)  # 默认是只读 'r'\n",
    "\n",
    "for line in f:\n",
    "    pass"
   ]
  },
  {
   "cell_type": "markdown",
   "metadata": {},
   "source": [
    "从文件中取出的行都带有完整的行结束符（EOL），因此你常常会看到下面这样的代码（得到一组没有EOL的行）:"
   ]
  },
  {
   "cell_type": "code",
   "execution_count": 261,
   "metadata": {},
   "outputs": [],
   "source": [
    "lines = [x.strip() for x in open(path)]\n",
    "lines\n",
    "f.close()  # 操作完毕后关闭文件"
   ]
  },
  {
   "cell_type": "code",
   "execution_count": 262,
   "metadata": {},
   "outputs": [],
   "source": [
    "# 用 with 语句在退出代码块时，自动关闭文件\n",
    "with open(path) as f:\n",
    "    lines = [x.strip() for x in f]"
   ]
  },
  {
   "cell_type": "markdown",
   "metadata": {},
   "source": [
    "对于可读文件，一些常用的方法是`read()`,`seek()`和`tell()`。`read()` 会从文件返回字符，字符内容由文件的编码决定，如果是二进制模式打开的就是原始字节。"
   ]
  },
  {
   "cell_type": "code",
   "execution_count": 263,
   "metadata": {},
   "outputs": [
    {
     "data": {
      "text/plain": [
       "'Sue帽a el r'"
      ]
     },
     "execution_count": 263,
     "metadata": {},
     "output_type": "execute_result"
    }
   ],
   "source": [
    "f = open(path)\n",
    "f.read(10)"
   ]
  },
  {
   "cell_type": "code",
   "execution_count": 264,
   "metadata": {},
   "outputs": [
    {
     "data": {
      "text/plain": [
       "b'Sue\\xc3\\xb1a el '"
      ]
     },
     "execution_count": 264,
     "metadata": {},
     "output_type": "execute_result"
    }
   ],
   "source": [
    "f2 = open(path, 'rb')  # binary mode\n",
    "f2.read(10)"
   ]
  },
  {
   "cell_type": "code",
   "execution_count": 265,
   "metadata": {},
   "outputs": [
    {
     "name": "stdout",
     "output_type": "stream",
     "text": [
      "11\n"
     ]
    },
    {
     "data": {
      "text/plain": [
       "10"
      ]
     },
     "execution_count": 265,
     "metadata": {},
     "output_type": "execute_result"
    }
   ],
   "source": [
    "# read模式会将文件句柄的位置提前，提前的数量是读取的字节数。\n",
    "# tell可以给出当前的位置\n",
    "\n",
    "print(f.tell())  # 11\n",
    "f2.tell()  # 10\n",
    "\n",
    "# 疑问：为什么读取 10 个字符，位置却是 11？\n",
    "# 原因：因为默认的编码用了这么多字节才解码这 10 个字符。"
   ]
  },
  {
   "cell_type": "code",
   "execution_count": 266,
   "metadata": {},
   "outputs": [
    {
     "data": {
      "text/plain": [
       "'utf-8'"
      ]
     },
     "execution_count": 266,
     "metadata": {},
     "output_type": "execute_result"
    }
   ],
   "source": [
    "import sys\n",
    "sys.getdefaultencoding()  # utf-8"
   ]
  },
  {
   "cell_type": "code",
   "execution_count": 267,
   "metadata": {},
   "outputs": [
    {
     "ename": "SyntaxError",
     "evalue": "invalid syntax (<ipython-input-267-40b74c4391ef>, line 1)",
     "output_type": "error",
     "traceback": [
      "\u001b[1;36m  File \u001b[1;32m\"<ipython-input-267-40b74c4391ef>\"\u001b[1;36m, line \u001b[1;32m1\u001b[0m\n\u001b[1;33m    `seek` 将文件位置更改该为文件中的指定字节：\u001b[0m\n\u001b[1;37m    ^\u001b[0m\n\u001b[1;31mSyntaxError\u001b[0m\u001b[1;31m:\u001b[0m invalid syntax\n"
     ]
    }
   ],
   "source": [
    "`seek` 将文件位置更改该为文件中的指定字节："
   ]
  },
  {
   "cell_type": "code",
   "execution_count": null,
   "metadata": {},
   "outputs": [],
   "source": [
    "f.seek(3) # 3\n",
    "f.read(1)\n",
    "\n",
    "f.close() \n",
    "f2.close()"
   ]
  },
  {
   "cell_type": "markdown",
   "metadata": {},
   "source": [
    "向文件写入，可以使用文件的 `write` 或 `writelines` 方法。例如，我们可以创建一个无空行版的 `prof_mod.py`："
   ]
  },
  {
   "cell_type": "code",
   "execution_count": 268,
   "metadata": {},
   "outputs": [
    {
     "data": {
      "text/plain": [
       "['Sue帽a el rico en su riqueza,\\n',\n",
       " 'que m谩s cuidados le ofrece;\\n',\n",
       " 'sue帽a el pobre que padece\\n',\n",
       " 'su miseria y su pobreza;\\n',\n",
       " 'sue帽a el que a medrar empieza,\\n',\n",
       " 'sue帽a el que afana y pretende,\\n',\n",
       " 'sue帽a el que agravia y ofende,\\n',\n",
       " 'y en el mundo, en conclusi贸n,\\n',\n",
       " 'todos sue帽an lo que son,\\n',\n",
       " 'aunque ninguno lo entiende.\\n']"
      ]
     },
     "execution_count": 268,
     "metadata": {},
     "output_type": "execute_result"
    }
   ],
   "source": [
    "# 去除空格\n",
    "with open('tmp.txt', 'w') as handle:\n",
    "    handle.writelines(x for x in open(path) if len(x) > 1)\n",
    "\n",
    "# 读取数据\n",
    "with open('tmp.txt') as f:\n",
    "    lines = f.readlines()\n",
    "\n",
    "lines "
   ]
  },
  {
   "cell_type": "markdown",
   "metadata": {},
   "source": [
    "常用文件方法：\n",
    "![](Img/7178691-d25bd6e730afeb39.png)"
   ]
  },
  {
   "cell_type": "markdown",
   "metadata": {},
   "source": [
    "### 文件和字节\n",
    "\n",
    "Python文件的默认操作是“文本模式”，也就是说，你需要处理Python的字符串（即Unicode）。它与“二进制模式”相对，文件模式加一个b。我们来看上一节的文件（UTF-8编码、包含非ASCII字符）:"
   ]
  },
  {
   "cell_type": "code",
   "execution_count": 269,
   "metadata": {},
   "outputs": [
    {
     "data": {
      "text/plain": [
       "'Sue帽a el r'"
      ]
     },
     "execution_count": 269,
     "metadata": {},
     "output_type": "execute_result"
    }
   ],
   "source": [
    "with open(path) as f:\n",
    "    chars = f.read(10)\n",
    "chars"
   ]
  },
  {
   "cell_type": "markdown",
   "metadata": {},
   "source": [
    "UTF-8是长度可变的Unicode编码，所以当我从文件请求一定数量的字符时，Python会从文件读取足够多（可能少至10或多至40字节）的字节进行解码。如果以“rb”模式打开文件，则读取确切的请求字节数："
   ]
  },
  {
   "cell_type": "code",
   "execution_count": 270,
   "metadata": {},
   "outputs": [],
   "source": [
    "with open(path, 'rb') as f:\n",
    "    data = f.read(10)"
   ]
  },
  {
   "cell_type": "markdown",
   "metadata": {},
   "source": [
    "取决于文本的编码，你可以将字节解码为str对象，但只有当每个编码的Unicode字符都完全成形时才能这么做："
   ]
  },
  {
   "cell_type": "code",
   "execution_count": 271,
   "metadata": {},
   "outputs": [
    {
     "data": {
      "text/plain": [
       "'Sueña el '"
      ]
     },
     "execution_count": 271,
     "metadata": {},
     "output_type": "execute_result"
    }
   ],
   "source": [
    "data.decode('utf8')"
   ]
  },
  {
   "cell_type": "code",
   "execution_count": 272,
   "metadata": {},
   "outputs": [],
   "source": [
    "# data[:4].decode('utf8')"
   ]
  },
  {
   "cell_type": "markdown",
   "metadata": {},
   "source": [
    "文本模式结合了open的编码选项，提供了一种更方便的方法将Unicode转换为另一种编码："
   ]
  },
  {
   "cell_type": "code",
   "execution_count": 273,
   "metadata": {},
   "outputs": [],
   "source": [
    "# sink_path = 'Examples\\sink.txt'\n",
    "# with open(path) as source:\n",
    "#     with open(sink_path,'xt',encoding='iso-8859-1') as sink:\n",
    "#         sink.write(source.read())\n",
    "# with open(sink_path, encoding='iso-8859-1') as f:\n",
    "#     print(f,read(10))"
   ]
  },
  {
   "cell_type": "markdown",
   "metadata": {},
   "source": [
    "注意，不要在二进制模式中使用seek。如果文件位置位于定义Unicode字符的字节的中间位置，读取后面会产生错误："
   ]
  },
  {
   "cell_type": "code",
   "execution_count": 274,
   "metadata": {},
   "outputs": [
    {
     "data": {
      "text/plain": [
       "'Sue帽a'"
      ]
     },
     "execution_count": 274,
     "metadata": {},
     "output_type": "execute_result"
    }
   ],
   "source": [
    "f = open(path)\n",
    "f.read(5)"
   ]
  },
  {
   "cell_type": "code",
   "execution_count": 275,
   "metadata": {},
   "outputs": [
    {
     "data": {
      "text/plain": [
       "4"
      ]
     },
     "execution_count": 275,
     "metadata": {},
     "output_type": "execute_result"
    }
   ],
   "source": [
    "f.seek(4)"
   ]
  },
  {
   "cell_type": "code",
   "execution_count": 276,
   "metadata": {},
   "outputs": [],
   "source": [
    "f.read(1)\n",
    "f.close()"
   ]
  },
  {
   "cell_type": "markdown",
   "metadata": {},
   "source": [
    "如果你经常要对非ASCII字符文本进行数据分析，通晓Python的Unicode功能是非常重要的。"
   ]
  },
  {
   "cell_type": "code",
   "execution_count": null,
   "metadata": {},
   "outputs": [],
   "source": []
  }
 ],
 "metadata": {
  "kernelspec": {
   "display_name": "Python 3",
   "language": "python",
   "name": "python3"
  },
  "language_info": {
   "codemirror_mode": {
    "name": "ipython",
    "version": 3
   },
   "file_extension": ".py",
   "mimetype": "text/x-python",
   "name": "python",
   "nbconvert_exporter": "python",
   "pygments_lexer": "ipython3",
   "version": "3.7.4"
  },
  "toc": {
   "base_numbering": 1,
   "nav_menu": {},
   "number_sections": true,
   "sideBar": true,
   "skip_h1_title": false,
   "title_cell": "Table of Contents",
   "title_sidebar": "Contents",
   "toc_cell": false,
   "toc_position": {
    "height": "calc(100% - 180px)",
    "left": "10px",
    "top": "150px",
    "width": "307.2px"
   },
   "toc_section_display": true,
   "toc_window_display": true
  }
 },
 "nbformat": 4,
 "nbformat_minor": 2
}

{
 "cells": [
  {
   "cell_type": "markdown",
   "metadata": {},
   "source": [
    "# NumPy 基础\n",
    "\n",
    "由于 NumPy 提供了一个简单易用的C API，因此很容易将数据传递由低级语言编写的外部库，外部库也能以 NumPy 数组的形式将数据返回给 Python 。这个功能使 Python 成为一种包装 C/C++/Fortran 历史代码库的选择，并使被包装库拥有动态的、易用的接口。\n",
    "\n",
    " **NumPy 本身没有提供高级的数据分析工具，但理解 NumPy 数组以及面向数组的计算有助于更高效地使用诸如 Pandas 等工具。**\n",
    "\n",
    "NumPy之于数值计算特别重要的原因之一，是因为它可以高效处理大数组的数据。这是因为：\n",
    "\n",
    "- NumPy 是在一个连续的内存块中存储数据，独立于其他 Python 内置对象。\n",
    "- NumPy 的 C 语言编写的算法库可以操作内存，而不必进行类型检查或其它前期工作。比起 Python 的内置序列，NumPy 数组使用的内存更少。\n",
    "- NumPy 可以在整个数组上执行复杂的计算，而不需要 Python 的 for 循环。\n"
   ]
  },
  {
   "cell_type": "markdown",
   "metadata": {},
   "source": [
    "## 性能与特点"
   ]
  },
  {
   "cell_type": "code",
   "execution_count": 183,
   "metadata": {},
   "outputs": [],
   "source": [
    "# numpy 与 list 性能比较\n",
    "import numpy as np\n",
    "my_arr = np.arange(1000000)\n",
    "my_list = list(range(10000000))"
   ]
  },
  {
   "cell_type": "code",
   "execution_count": 184,
   "metadata": {},
   "outputs": [
    {
     "name": "stdout",
     "output_type": "stream",
     "text": [
      "Wall time: 40 ms\n"
     ]
    }
   ],
   "source": [
    "# numpy\n",
    "%time for _ in range(10): my_arr = my_arr * 2"
   ]
  },
  {
   "cell_type": "code",
   "execution_count": 185,
   "metadata": {},
   "outputs": [
    {
     "name": "stdout",
     "output_type": "stream",
     "text": [
      "Wall time: 12.8 s\n"
     ]
    }
   ],
   "source": [
    "# list\n",
    "%time for _ in range(10): my_list2 = [x*2 for x in my_list]"
   ]
  },
  {
   "cell_type": "markdown",
   "metadata": {},
   "source": [
    "**结论：基于 Numpy 的算法要比纯 Python 快 10 到 100 倍，并且使用的内存更少。**"
   ]
  },
  {
   "cell_type": "markdown",
   "metadata": {},
   "source": [
    " NumPy 的特点：\n",
    "-  N 维数组对象（即ndarray）是一个快速而灵活的大数据集容器。可以利用这种数组对象对**整块**数据执行一些数学运算，其语法和标量元素之间的运算一样。\n",
    "- ndarry 是一个具有通用的同构数据多维容器，所以其中的元素必须是相同类型的。每个数组都有一个 `shape`（一个表示各维度大小的元组） 和 一个 `dtype`（一个用于说明数组数据类型的对象）。"
   ]
  },
  {
   "cell_type": "code",
   "execution_count": 16,
   "metadata": {},
   "outputs": [
    {
     "name": "stdout",
     "output_type": "stream",
     "text": [
      "[[-0.63874239  0.74240268 -2.35248066]\n",
      " [-1.32557222 -0.73172878 -0.04198132]]\n",
      "data*10: [[ -6.38742389   7.42402679 -23.52480658]\n",
      " [-13.25572225  -7.3172878   -0.41981322]]\n",
      "data+data: [[-1.27748478  1.48480536 -4.70496132]\n",
      " [-2.65114445 -1.46345756 -0.08396264]]\n"
     ]
    }
   ],
   "source": [
    "import numpy as np\n",
    "\n",
    "data = np.random.randn(2, 3)  # 生成随机数组\n",
    "# 运算\n",
    "print(\"data*10:\", data * 10)\n",
    "print(\"data+data:\", data + data)"
   ]
  },
  {
   "cell_type": "markdown",
   "metadata": {},
   "source": [
    "## 创建 ndarry\n",
    "\n",
    "- 除非特别说明，np.array 会尝试为新建的这个数组推断出一个较为合适的数据类型。数据类型保存在一个特殊的 dtype 对象中。\n",
    "- 由于 NumPy 关注的是数值计算，因此，如果没有特别指定，数据类型基本都是 float64（浮点数）。\n",
    "\n",
    "![](Img/7178691-78ab11f67e7077a6.png)"
   ]
  },
  {
   "cell_type": "code",
   "execution_count": 22,
   "metadata": {},
   "outputs": [
    {
     "data": {
      "text/plain": [
       "array([[1, 2, 3, 4],\n",
       "       [5, 6, 7, 8]])"
      ]
     },
     "execution_count": 22,
     "metadata": {},
     "output_type": "execute_result"
    }
   ],
   "source": [
    "# 方法1: array() 函数\n",
    "# 将输入的数据（列表、元组、数组或者其他序列类型）转为 ndarray\n",
    "data1 = [6, 7.5, 8, 0, 1]\n",
    "arr1 = np.array(data1)\n",
    "arr1\n",
    "\n",
    "# 嵌套序列将被转化为多维数组\n",
    "data2 = [[1, 2, 3, 4], [5, 6, 7, 8]]\n",
    "arr2 = np.array(data2)\n",
    "arr2"
   ]
  },
  {
   "cell_type": "code",
   "execution_count": 24,
   "metadata": {},
   "outputs": [
    {
     "data": {
      "text/plain": [
       "(2, 4)"
      ]
     },
     "execution_count": 24,
     "metadata": {},
     "output_type": "execute_result"
    }
   ],
   "source": [
    "arr2.ndim  # 2\n",
    "arr2.shape  # (2,4)"
   ]
  },
  {
   "cell_type": "code",
   "execution_count": 27,
   "metadata": {},
   "outputs": [
    {
     "data": {
      "text/plain": [
       "dtype('int32')"
      ]
     },
     "execution_count": 27,
     "metadata": {},
     "output_type": "execute_result"
    }
   ],
   "source": [
    "arr1.dtype  # float64\n",
    "arr2.dtype  # int32"
   ]
  },
  {
   "cell_type": "code",
   "execution_count": 31,
   "metadata": {},
   "outputs": [
    {
     "name": "stdout",
     "output_type": "stream",
     "text": [
      "[0. 0. 0. 0. 0. 0. 0. 0. 0. 0.]\n",
      "[[1. 1. 1. 1. 1. 1.]\n",
      " [1. 1. 1. 1. 1. 1.]\n",
      " [1. 1. 1. 1. 1. 1.]]\n"
     ]
    },
    {
     "data": {
      "text/plain": [
       "array([[[8.74476807e-312, 2.47032823e-322],\n",
       "        [0.00000000e+000, 0.00000000e+000],\n",
       "        [1.89146896e-307, 5.64233733e-067]],\n",
       "\n",
       "       [[4.26897496e-090, 1.24555553e-047],\n",
       "        [3.61343578e+174, 7.24751189e+169],\n",
       "        [3.99910963e+252, 3.73541898e-033]]])"
      ]
     },
     "execution_count": 31,
     "metadata": {},
     "output_type": "execute_result"
    }
   ],
   "source": [
    "# 方法2：zero(),ones() 和 empty()\n",
    "arr_zeros = np.zeros(10)\n",
    "print(arr_zeros)\n",
    "\n",
    "arr_ones = np.ones((3, 6))\n",
    "print(arr_ones)\n",
    "\n",
    "np.empty((2, 3, 2))\n",
    "\n",
    "# 注意：认为np.empty会返回全0数组的想法是不安全的。\n",
    "# 很多情况下（如前所示），它返回的都是一些未初始化的垃圾值。"
   ]
  },
  {
   "cell_type": "code",
   "execution_count": 32,
   "metadata": {},
   "outputs": [
    {
     "data": {
      "text/plain": [
       "array([ 0,  1,  2,  3,  4,  5,  6,  7,  8,  9, 10, 11, 12, 13, 14])"
      ]
     },
     "execution_count": 32,
     "metadata": {},
     "output_type": "execute_result"
    }
   ],
   "source": [
    "# 方法3:arrange()\n",
    "np.arange(15)"
   ]
  },
  {
   "cell_type": "markdown",
   "metadata": {},
   "source": [
    "## ndarry 的数据类型\n",
    "\n",
    "dtype 是一个特殊的对象，它含有 ndarray 将一块内存解释为特定数据类型所需的信息。\n",
    "\n",
    "![](Img/7178691-2f2d7406a8bc076c.png)\n",
    "![](Img/7178691-5cc31115615737b7.png)\n",
    "\n",
    ">笔记：记不住这些NumPy的dtype也没关系，通常只需要知道你所处理的数据的大致类型是浮点数、复数、整数、布尔值、字符串，还是普通的Python对象即可。当你需要控制数据在内存和磁盘中的存储方式时（尤其是对大数据集），那就得了解如何控制存储类型。"
   ]
  },
  {
   "cell_type": "code",
   "execution_count": 45,
   "metadata": {},
   "outputs": [
    {
     "name": "stdout",
     "output_type": "stream",
     "text": [
      "[-0.16936503 -1.36482864 -0.14741344  0.0553577  -0.42449805  0.20203713\n",
      "  0.05995079  1.00015389 -0.16375241  0.42793938]\n"
     ]
    },
    {
     "data": {
      "text/plain": [
       "array([1.24, 3.69, 7.98])"
      ]
     },
     "execution_count": 45,
     "metadata": {},
     "output_type": "execute_result"
    }
   ],
   "source": [
    "# 指定数据类型\n",
    "arr1 = np.array([1, 2, 3], dtype=np.float64)\n",
    "arr2 = np.array([1, 2, 3], dtype=np.int64)\n",
    "\n",
    "# 转换数据类型：int -> float\n",
    "arr = np.array([1, 2, 3, 4, 5])\n",
    "arr.dtype  # int32\n",
    "float_arr = arr.astype(np.float64)\n",
    "float_arr.dtype  # float64\n",
    "\n",
    "# float -> int，小数部分会被截取删除\n",
    "arr = np.random.randn(10)\n",
    "print(arr)\n",
    "arr.astype(np.int32)\n",
    "\n",
    "# string -> float\n",
    "numeric_strings = np.array(['1.24', '3.69', '7.98'], dtype=np.string_)\n",
    "numeric_strings.astype(float)  # 为啥没写float64? NumPy 会自动映射到等价的 dtype 上。\n",
    "\n",
    "# 注意：使用numpy.string_类型时，一定要小心，\n",
    "# 因为 NumPy 的字符串数据是大小固定的，发生截取时，不会发出警告。\n",
    "# pandas提供了更多非数值数据的便利的处理方法。"
   ]
  },
  {
   "cell_type": "code",
   "execution_count": 46,
   "metadata": {},
   "outputs": [
    {
     "data": {
      "text/plain": [
       "array([0., 1., 2., 3., 4., 5., 6., 7., 8., 9.])"
      ]
     },
     "execution_count": 46,
     "metadata": {},
     "output_type": "execute_result"
    }
   ],
   "source": [
    "# astype: as (specific array's) type\n",
    "int_array = np.arange(10)\n",
    "calibers = np.array([.22, .270, .357, .380, .44, .50], dtype=np.float64)\n",
    "int_array.astype(calibers.dtype)\n",
    "\n",
    "# 笔记：调用astype总会创建一个新的数组（一个数据的备份），\n",
    "# 即使新的dtype与旧的dtype相同。"
   ]
  },
  {
   "cell_type": "code",
   "execution_count": 48,
   "metadata": {},
   "outputs": [
    {
     "data": {
      "text/plain": [
       "dtype('uint32')"
      ]
     },
     "execution_count": 48,
     "metadata": {},
     "output_type": "execute_result"
    }
   ],
   "source": [
    "# 简写类型代码\n",
    "empty_unit32 = np.empty(8, dtype='u4')  # uint 32\n",
    "empty_unit32.dtype"
   ]
  },
  {
   "cell_type": "markdown",
   "metadata": {},
   "source": [
    "## NumPy 数组运算\n",
    "\n",
    "- 数组很重要，因为它使你不用编写循环即可对数据执行批量运算。NumPy用户称其为矢量化（vectorization）。大小相等的数组之间的任何算术运算都会将运算应用到元素级。\n",
    "- 数量与标量的算术运算会将标量值传播到各个元素，不同大小的数组之间的运算叫做广播（broadcasting）。\n",
    "- 大小相同的数组之间的比较会生成布尔值数组。"
   ]
  },
  {
   "cell_type": "code",
   "execution_count": 51,
   "metadata": {},
   "outputs": [
    {
     "data": {
      "text/plain": [
       "array([[0., 0., 0.],\n",
       "       [0., 0., 0.]])"
      ]
     },
     "execution_count": 51,
     "metadata": {},
     "output_type": "execute_result"
    }
   ],
   "source": [
    "arr = np.array([[1., 2., 3.], [4., 5., 6.]])\n",
    "arr\n",
    "\n",
    "# 相乘\n",
    "arr*arr\n",
    "\n",
    "# 相减\n",
    "arr - arr"
   ]
  },
  {
   "cell_type": "code",
   "execution_count": 53,
   "metadata": {},
   "outputs": [
    {
     "data": {
      "text/plain": [
       "array([[False,  True, False],\n",
       "       [ True, False,  True]])"
      ]
     },
     "execution_count": 53,
     "metadata": {},
     "output_type": "execute_result"
    }
   ],
   "source": [
    "# 数量与标量的算术运算会将标量值传播到各个元素\n",
    "\n",
    "1/arr\n",
    "arr**0.5\n",
    "\n",
    "# 大小相同的数组之间的比较会生成布尔值数组\n",
    "arr2 = np.array([[0., 4., 1.], [7., 2., 12.]])\n",
    "arr2\n",
    "arr2 > arr"
   ]
  },
  {
   "cell_type": "markdown",
   "metadata": {},
   "source": [
    "## 基本索引和切片\n",
    "\n",
    "- 当你将一个标量值赋值给一个切片时（如`arr[5:8]=12`），该值会自动传播（也就说后面将会讲到的“广播”）到整个选区。跟列表最重要的区别在于，数组切片是原始数组的视图。**这意味着数据不会被复制，视图上的任何修改都会直接反映到源数组上。**\n",
    "\n",
    "- 如果你刚开始接触NumPy，可能会对此感到惊讶（尤其是当你曾经用过其他热衷于复制数组数据的编程语言）。由于NumPy的设计目的是处理大数据，所以你可以想象一下，假如NumPy坚持要将数据复制来复制去的话会产生何等的性能和内存问题。\n",
    "\n",
    "> 注意：如果你想要得到的是ndarray切片的一份副本而非视图，就需要明确地进行复制操作，例如``arr[5:8].copy()``。\n",
    "\n",
    "- 二维数组索引方式（**轴0为行，轴1为列**）：\n",
    "![](Img/7178691-0a641536f73f560e.png)"
   ]
  },
  {
   "cell_type": "code",
   "execution_count": 55,
   "metadata": {},
   "outputs": [
    {
     "data": {
      "text/plain": [
       "array([0, 1, 2, 3, 4, 5, 6, 7, 8, 9])"
      ]
     },
     "execution_count": 55,
     "metadata": {},
     "output_type": "execute_result"
    }
   ],
   "source": [
    "arr = np.arange(10)\n",
    "arr"
   ]
  },
  {
   "cell_type": "code",
   "execution_count": 56,
   "metadata": {},
   "outputs": [
    {
     "name": "stdout",
     "output_type": "stream",
     "text": [
      "5\n",
      "[5 6 7]\n",
      "[ 0  1  2  3  4 12 12 12  8  9]\n"
     ]
    }
   ],
   "source": [
    "print(arr[5])\n",
    "print(arr[5:8])\n",
    "arr[5:8] = 12\n",
    "print(arr)"
   ]
  },
  {
   "cell_type": "code",
   "execution_count": 57,
   "metadata": {},
   "outputs": [
    {
     "data": {
      "text/plain": [
       "array([ 0,  1,  2,  3,  4, 64, 64, 64,  8,  9])"
      ]
     },
     "execution_count": 57,
     "metadata": {},
     "output_type": "execute_result"
    }
   ],
   "source": [
    "# 视图上任何数据修改都会直接反映到源数据上\n",
    "arr_slice = arr[5:8]\n",
    "arr_slice[:] = 64  # [:] 会给所有值复赋值\n",
    "arr"
   ]
  },
  {
   "cell_type": "code",
   "execution_count": 59,
   "metadata": {},
   "outputs": [
    {
     "data": {
      "text/plain": [
       "array([7, 8, 9])"
      ]
     },
     "execution_count": 59,
     "metadata": {},
     "output_type": "execute_result"
    }
   ],
   "source": [
    "# 高维度数组\n",
    "arr2d = np.array([[1, 2, 3], [4, 5, 6], [7, 8, 9]])\n",
    "arr2d[2]  # 索引对应的不是标量，而是一维数组"
   ]
  },
  {
   "cell_type": "code",
   "execution_count": 60,
   "metadata": {},
   "outputs": [
    {
     "data": {
      "text/plain": [
       "3"
      ]
     },
     "execution_count": 60,
     "metadata": {},
     "output_type": "execute_result"
    }
   ],
   "source": [
    "# 对元素递归访问\n",
    "arr2d[0][2]\n",
    "arr2d[0, 2]"
   ]
  },
  {
   "cell_type": "code",
   "execution_count": 63,
   "metadata": {},
   "outputs": [
    {
     "data": {
      "text/plain": [
       "(2, 2, 3)"
      ]
     },
     "execution_count": 63,
     "metadata": {},
     "output_type": "execute_result"
    }
   ],
   "source": [
    "# 在多维数组中，如果省略了后面的索引，则返回对象会是一个维度低一点的ndarray（它含有高一级维度上的所有数据）。\n",
    "# 因此，在2×2×3数组arr3d中：\n",
    "arr3d = np.array([[[1, 2, 3], [4, 5, 6]], [[7, 8, 9], [10, 11, 12]]])\n",
    "arr3d.shape  # 2*2*3"
   ]
  },
  {
   "cell_type": "code",
   "execution_count": 70,
   "metadata": {},
   "outputs": [
    {
     "data": {
      "text/plain": [
       "array([[[42, 42, 42],\n",
       "        [42, 42, 42]],\n",
       "\n",
       "       [[ 7,  8,  9],\n",
       "        [10, 11, 12]]])"
      ]
     },
     "execution_count": 70,
     "metadata": {},
     "output_type": "execute_result"
    }
   ],
   "source": [
    "arr3d[0]\n",
    "arr3d[1, 0]\n",
    "arr3d[0].shape  # 2*3\n",
    "\n",
    "old_values = arr3d[0].copy()\n",
    "arr3d[0] = 42\n",
    "arr3d\n",
    "arr3d[0] = old_values\n",
    "arr3d"
   ]
  },
  {
   "cell_type": "markdown",
   "metadata": {},
   "source": [
    "## 切片索引\n",
    "\n",
    "切片索引与 Python 一维对象类似\n",
    "\n",
    "高维轴进行切片：\n",
    "![](Img/7178691-9da32d2f4629c304.png)"
   ]
  },
  {
   "cell_type": "code",
   "execution_count": 72,
   "metadata": {},
   "outputs": [
    {
     "data": {
      "text/plain": [
       "array([ 1,  2,  3,  4, 64])"
      ]
     },
     "execution_count": 72,
     "metadata": {},
     "output_type": "execute_result"
    }
   ],
   "source": [
    "arr\n",
    "arr[1:6]"
   ]
  },
  {
   "cell_type": "code",
   "execution_count": 73,
   "metadata": {},
   "outputs": [
    {
     "data": {
      "text/plain": [
       "array([[1, 2, 3],\n",
       "       [4, 5, 6]])"
      ]
     },
     "execution_count": 73,
     "metadata": {},
     "output_type": "execute_result"
    }
   ],
   "source": [
    "# 二维数组切片，沿着第 0 轴切片\n",
    "arr2d\n",
    "arr2d[:2]  # 选取arr2d的前两行"
   ]
  },
  {
   "cell_type": "code",
   "execution_count": 79,
   "metadata": {},
   "outputs": [],
   "source": [
    "arr2d[1, :2]  # 第2个行的前两列\n",
    "arr2d[:2, 2]\n",
    "arr2d[:, :1]  # [:] 表示选取整个轴\n",
    "arr2d[:2, 1:] = 0  # 对切片表达式的赋值操作也会被扩散到整个选区"
   ]
  },
  {
   "cell_type": "code",
   "execution_count": null,
   "metadata": {},
   "outputs": [],
   "source": [
    "# 布尔型索引"
   ]
  },
  {
   "cell_type": "code",
   "execution_count": 85,
   "metadata": {},
   "outputs": [
    {
     "data": {
      "text/plain": [
       "array([[ 0.55917371, -1.43290377, -0.2351027 , -1.54375571],\n",
       "       [ 0.3865012 ,  0.70542362,  0.64344927, -0.02576441],\n",
       "       [ 0.79947499, -1.52818786, -1.55004992, -0.06342341],\n",
       "       [-1.03700837,  1.12779858, -0.50400492, -0.86208905],\n",
       "       [ 1.3489014 ,  0.38120337,  1.80438522, -0.30439788],\n",
       "       [ 0.0749773 , -0.13251711, -0.20391346,  0.10045567],\n",
       "       [-0.40455669, -0.55339037, -0.30575149,  0.4472211 ]])"
      ]
     },
     "execution_count": 85,
     "metadata": {},
     "output_type": "execute_result"
    }
   ],
   "source": [
    "names = np.array(['Bob', 'Joe', 'Will', 'Bob', 'Will', 'Joe', 'Joe'])\n",
    "data = np.random.randn(7, 4)\n",
    "names\n",
    "data"
   ]
  },
  {
   "cell_type": "code",
   "execution_count": 86,
   "metadata": {},
   "outputs": [
    {
     "data": {
      "text/plain": [
       "array([ True, False, False,  True, False, False, False])"
      ]
     },
     "execution_count": 86,
     "metadata": {},
     "output_type": "execute_result"
    }
   ],
   "source": [
    "names == 'Bob'  # 产生布尔类型数组"
   ]
  },
  {
   "cell_type": "code",
   "execution_count": 87,
   "metadata": {},
   "outputs": [
    {
     "data": {
      "text/plain": [
       "array([[ 0.55917371, -1.43290377, -0.2351027 , -1.54375571],\n",
       "       [-1.03700837,  1.12779858, -0.50400492, -0.86208905]])"
      ]
     },
     "execution_count": 87,
     "metadata": {},
     "output_type": "execute_result"
    }
   ],
   "source": [
    "data[names == 'Bob']  # 布尔型数组可用于数组索引"
   ]
  },
  {
   "cell_type": "code",
   "execution_count": 88,
   "metadata": {},
   "outputs": [
    {
     "data": {
      "text/plain": [
       "array([[ 0.55917371, -1.43290377, -0.2351027 , -1.54375571],\n",
       "       [-1.03700837,  1.12779858, -0.50400492, -0.86208905]])"
      ]
     },
     "execution_count": 88,
     "metadata": {},
     "output_type": "execute_result"
    }
   ],
   "source": [
    "# 将布尔型数组跟切片、整数（或整数序列，稍后将对此进行详细讲解）混合使用\n",
    "data[names == 'Bob']"
   ]
  },
  {
   "cell_type": "markdown",
   "metadata": {},
   "source": [
    "但是要注意，布尔型数组的长度必须跟被索引的轴长度一致。如果布尔型数组的长度不对，布尔型选择就会出错，因此一定要小心。"
   ]
  },
  {
   "cell_type": "code",
   "execution_count": 89,
   "metadata": {},
   "outputs": [
    {
     "data": {
      "text/plain": [
       "array([[-0.2351027 , -1.54375571],\n",
       "       [-0.50400492, -0.86208905]])"
      ]
     },
     "execution_count": 89,
     "metadata": {},
     "output_type": "execute_result"
    }
   ],
   "source": [
    "data[names == 'Bob', 2:]"
   ]
  },
  {
   "cell_type": "code",
   "execution_count": 90,
   "metadata": {},
   "outputs": [
    {
     "data": {
      "text/plain": [
       "array([-1.54375571, -0.86208905])"
      ]
     },
     "execution_count": 90,
     "metadata": {},
     "output_type": "execute_result"
    }
   ],
   "source": [
    "data[names == 'Bob', 3]"
   ]
  },
  {
   "cell_type": "code",
   "execution_count": 93,
   "metadata": {},
   "outputs": [
    {
     "data": {
      "text/plain": [
       "array([[ 0.3865012 ,  0.70542362,  0.64344927, -0.02576441],\n",
       "       [ 0.79947499, -1.52818786, -1.55004992, -0.06342341],\n",
       "       [ 1.3489014 ,  0.38120337,  1.80438522, -0.30439788],\n",
       "       [ 0.0749773 , -0.13251711, -0.20391346,  0.10045567],\n",
       "       [-0.40455669, -0.55339037, -0.30575149,  0.4472211 ]])"
      ]
     },
     "execution_count": 93,
     "metadata": {},
     "output_type": "execute_result"
    }
   ],
   "source": [
    "data[names != 'Bob']\n",
    "# or\n",
    "data[~(names == 'Bob')]"
   ]
  },
  {
   "cell_type": "code",
   "execution_count": 96,
   "metadata": {},
   "outputs": [
    {
     "data": {
      "text/plain": [
       "array([ True, False, False,  True, False, False, False])"
      ]
     },
     "execution_count": 96,
     "metadata": {},
     "output_type": "execute_result"
    }
   ],
   "source": [
    "# 选取这三个名字中的两个需要组合应用多个布尔条件，\n",
    "# 使用&（和）、|（或）之类的布尔算术运算符即可：\n",
    "\n",
    "mask = (names == 'Bob') | (names == 'will')\n",
    "mask"
   ]
  },
  {
   "cell_type": "code",
   "execution_count": 97,
   "metadata": {},
   "outputs": [
    {
     "data": {
      "text/plain": [
       "array([[ 0.55917371, -1.43290377, -0.2351027 , -1.54375571],\n",
       "       [-1.03700837,  1.12779858, -0.50400492, -0.86208905]])"
      ]
     },
     "execution_count": 97,
     "metadata": {},
     "output_type": "execute_result"
    }
   ],
   "source": [
    "data[mask]"
   ]
  },
  {
   "cell_type": "markdown",
   "metadata": {},
   "source": [
    "通过布尔型索引选取数组中的数据，将总是创建数据的副本，即使返回一模一样的数组也是如此。\n",
    "\n",
    ">注意：Python关键字and和or在布尔型数组中无效。要使用&与|。\n",
    "\n",
    "通过布尔型数组设置值是一种经常用到的手段。为了将data中的所有负值都设置为0，我们只需："
   ]
  },
  {
   "cell_type": "code",
   "execution_count": 100,
   "metadata": {},
   "outputs": [
    {
     "data": {
      "text/plain": [
       "array([[0.55917371, 0.        , 0.        , 0.        ],\n",
       "       [0.3865012 , 0.70542362, 0.64344927, 0.        ],\n",
       "       [0.79947499, 0.        , 0.        , 0.        ],\n",
       "       [0.        , 1.12779858, 0.        , 0.        ],\n",
       "       [1.3489014 , 0.38120337, 1.80438522, 0.        ],\n",
       "       [0.0749773 , 0.        , 0.        , 0.10045567],\n",
       "       [0.        , 0.        , 0.        , 0.4472211 ]])"
      ]
     },
     "execution_count": 100,
     "metadata": {},
     "output_type": "execute_result"
    }
   ],
   "source": [
    "data[data < 0] = 0\n",
    "data"
   ]
  },
  {
   "cell_type": "code",
   "execution_count": 102,
   "metadata": {},
   "outputs": [
    {
     "data": {
      "text/plain": [
       "array([[0.55917371, 0.        , 0.        , 0.        ],\n",
       "       [7.        , 7.        , 7.        , 7.        ],\n",
       "       [7.        , 7.        , 7.        , 7.        ],\n",
       "       [0.        , 1.12779858, 0.        , 0.        ],\n",
       "       [7.        , 7.        , 7.        , 7.        ],\n",
       "       [7.        , 7.        , 7.        , 7.        ],\n",
       "       [7.        , 7.        , 7.        , 7.        ]])"
      ]
     },
     "execution_count": 102,
     "metadata": {},
     "output_type": "execute_result"
    }
   ],
   "source": [
    "data[names != 'Bob'] = 7\n",
    "data\n",
    "\n",
    "# 这类二维数据的操作也可以用于 pandas"
   ]
  },
  {
   "cell_type": "markdown",
   "metadata": {},
   "source": [
    "## 花式索引\n",
    "花式索引（Fancy indexing）是一个NumPy术语，它指的是利用整数数组进行索引。"
   ]
  },
  {
   "cell_type": "code",
   "execution_count": 106,
   "metadata": {},
   "outputs": [
    {
     "data": {
      "text/plain": [
       "array([[0., 0., 0., 0.],\n",
       "       [1., 1., 1., 1.],\n",
       "       [2., 2., 2., 2.],\n",
       "       [3., 3., 3., 3.],\n",
       "       [4., 4., 4., 4.],\n",
       "       [5., 5., 5., 5.],\n",
       "       [6., 6., 6., 6.],\n",
       "       [7., 7., 7., 7.]])"
      ]
     },
     "execution_count": 106,
     "metadata": {},
     "output_type": "execute_result"
    }
   ],
   "source": [
    "arr = np.empty((8, 4))  # 8*4\n",
    "for i in range(8):\n",
    "    arr[i] = i\n",
    "arr"
   ]
  },
  {
   "cell_type": "code",
   "execution_count": 107,
   "metadata": {},
   "outputs": [
    {
     "data": {
      "text/plain": [
       "array([[4., 4., 4., 4.],\n",
       "       [3., 3., 3., 3.],\n",
       "       [0., 0., 0., 0.],\n",
       "       [6., 6., 6., 6.]])"
      ]
     },
     "execution_count": 107,
     "metadata": {},
     "output_type": "execute_result"
    }
   ],
   "source": [
    "# 为了以特定顺序选取行子集，\n",
    "# 只需传入一个用于指定顺序的整数列表或ndarray即可：\n",
    "arr[[4, 3, 0, 6]]"
   ]
  },
  {
   "cell_type": "code",
   "execution_count": 108,
   "metadata": {},
   "outputs": [
    {
     "data": {
      "text/plain": [
       "array([[5., 5., 5., 5.],\n",
       "       [3., 3., 3., 3.],\n",
       "       [1., 1., 1., 1.]])"
      ]
     },
     "execution_count": 108,
     "metadata": {},
     "output_type": "execute_result"
    }
   ],
   "source": [
    "arr[[-3, -5, -7]]  # 传入负数将从末尾开始选取"
   ]
  },
  {
   "cell_type": "code",
   "execution_count": 112,
   "metadata": {},
   "outputs": [
    {
     "name": "stdout",
     "output_type": "stream",
     "text": [
      "[[ 0  1  2  3]\n",
      " [ 4  5  6  7]\n",
      " [ 8  9 10 11]\n",
      " [12 13 14 15]\n",
      " [16 17 18 19]\n",
      " [20 21 22 23]\n",
      " [24 25 26 27]\n",
      " [28 29 30 31]]\n"
     ]
    },
    {
     "data": {
      "text/plain": [
       "[(1, 0), (5, 3), (7, 1), (2, 2)]"
      ]
     },
     "execution_count": 112,
     "metadata": {},
     "output_type": "execute_result"
    }
   ],
   "source": [
    "# 一次传入多个索引数组\n",
    "arr = np.arange(32).reshape((8, 4))\n",
    "print(arr)\n",
    "arr[[1, 5, 7, 2], [0, 3, 1, 2]]\n",
    "# array([ 4, 23, 29, 10])\n",
    "\n",
    "# 取出的实际是元组\n",
    "list(zip([1, 5, 7, 2], [0, 3, 1, 2]))"
   ]
  },
  {
   "cell_type": "code",
   "execution_count": 113,
   "metadata": {},
   "outputs": [
    {
     "data": {
      "text/plain": [
       "array([[ 0,  1,  2,  3,  4],\n",
       "       [ 5,  6,  7,  8,  9],\n",
       "       [10, 11, 12, 13, 14]])"
      ]
     },
     "execution_count": 113,
     "metadata": {},
     "output_type": "execute_result"
    }
   ],
   "source": [
    "# 数组转置和轴对换\n",
    "arr = np.arange(15).reshape((3, 5))\n",
    "arr"
   ]
  },
  {
   "cell_type": "code",
   "execution_count": 114,
   "metadata": {},
   "outputs": [
    {
     "data": {
      "text/plain": [
       "array([[ 0,  5, 10],\n",
       "       [ 1,  6, 11],\n",
       "       [ 2,  7, 12],\n",
       "       [ 3,  8, 13],\n",
       "       [ 4,  9, 14]])"
      ]
     },
     "execution_count": 114,
     "metadata": {},
     "output_type": "execute_result"
    }
   ],
   "source": [
    "arr.T  # 转置"
   ]
  },
  {
   "cell_type": "code",
   "execution_count": 116,
   "metadata": {},
   "outputs": [
    {
     "data": {
      "text/plain": [
       "array([[-1.61797821,  0.71427583,  0.81240901],\n",
       "       [ 0.22170311,  0.37773658, -1.24671535],\n",
       "       [-1.26891901,  1.25605144, -1.48000077],\n",
       "       [ 0.81836807, -0.26868663, -0.25480561],\n",
       "       [ 0.57094846,  0.1876973 , -1.60189099],\n",
       "       [ 1.55708786, -0.67142811, -0.91553916]])"
      ]
     },
     "execution_count": 116,
     "metadata": {},
     "output_type": "execute_result"
    }
   ],
   "source": [
    "arr = np.random.randn(6, 3)  # 计算矩阵内积\n",
    "arr"
   ]
  },
  {
   "cell_type": "code",
   "execution_count": 119,
   "metadata": {},
   "outputs": [
    {
     "name": "stdout",
     "output_type": "stream",
     "text": [
      "[[[ 0  1  2  3]\n",
      "  [ 4  5  6  7]]\n",
      "\n",
      " [[ 8  9 10 11]\n",
      "  [12 13 14 15]]]\n"
     ]
    },
    {
     "data": {
      "text/plain": [
       "array([[[ 0,  1,  2,  3],\n",
       "        [ 8,  9, 10, 11]],\n",
       "\n",
       "       [[ 4,  5,  6,  7],\n",
       "        [12, 13, 14, 15]]])"
      ]
     },
     "execution_count": 119,
     "metadata": {},
     "output_type": "execute_result"
    }
   ],
   "source": [
    "# 高维数组transpose需要得到一个由轴编号组成的元组\n",
    "arr = np.arange(16).reshape((2, 2, 4))\n",
    "print(arr)\n",
    "arr.transpose((1, 0, 2))\n",
    "# 第 1 个轴转为第 2 个\n",
    "# 第 2 个轴转为第 1 个"
   ]
  },
  {
   "cell_type": "code",
   "execution_count": 120,
   "metadata": {},
   "outputs": [
    {
     "data": {
      "text/plain": [
       "array([[[ 0,  4],\n",
       "        [ 1,  5],\n",
       "        [ 2,  6],\n",
       "        [ 3,  7]],\n",
       "\n",
       "       [[ 8, 12],\n",
       "        [ 9, 13],\n",
       "        [10, 14],\n",
       "        [11, 15]]])"
      ]
     },
     "execution_count": 120,
     "metadata": {},
     "output_type": "execute_result"
    }
   ],
   "source": [
    "arr.swapaxes(1, 2)  # 接受一对轴编号"
   ]
  },
  {
   "cell_type": "markdown",
   "metadata": {},
   "source": [
    "## 通用函数：快速的元素级数组函数\n",
    "\n",
    "通用函数（即ufunc）是一种对 ndarray 中的数据执行元素级运算的函数。**可以将其看做简单函数（接受一个或多个标量值，并产生一个或多个标量值）的矢量化包装器。**\n",
    "![](Img/7178691-1d494e73b61c7ced.png)\n",
    "![](Img/7178691-4e38d02a66481530.png)\n",
    "![](Img/7178691-eff1e61e5464159f.png)\n",
    "![](Img/7178691-236dba83b6a420cc.png)"
   ]
  },
  {
   "cell_type": "code",
   "execution_count": 122,
   "metadata": {},
   "outputs": [
    {
     "data": {
      "text/plain": [
       "array([1.00000000e+00, 2.71828183e+00, 7.38905610e+00, 2.00855369e+01,\n",
       "       5.45981500e+01, 1.48413159e+02, 4.03428793e+02, 1.09663316e+03,\n",
       "       2.98095799e+03, 8.10308393e+03])"
      ]
     },
     "execution_count": 122,
     "metadata": {},
     "output_type": "execute_result"
    }
   ],
   "source": [
    "# 一元通用函数（unary ufunc）\n",
    "arr = np.arange(10)\n",
    "np.sqrt(arr)\n",
    "np.exp(arr)"
   ]
  },
  {
   "cell_type": "code",
   "execution_count": 123,
   "metadata": {},
   "outputs": [
    {
     "data": {
      "text/plain": [
       "array([0.47109386, 1.68459132, 0.64188939, 0.46463172, 0.9528307 ,\n",
       "       0.58236413, 0.27777411, 0.2178618 ])"
      ]
     },
     "execution_count": 123,
     "metadata": {},
     "output_type": "execute_result"
    }
   ],
   "source": [
    "# 二元通用函数（binary ufunc）\n",
    "x = np.random.randn(8)\n",
    "y = np.random.randn(8)\n",
    "\n",
    "np.maximum(x, y)  # 计算x和元素级别中的最大元素"
   ]
  },
  {
   "cell_type": "code",
   "execution_count": 124,
   "metadata": {},
   "outputs": [
    {
     "data": {
      "text/plain": [
       "array([-6.,  9., -1., -1.,  5., -3.,  1.])"
      ]
     },
     "execution_count": 124,
     "metadata": {},
     "output_type": "execute_result"
    }
   ],
   "source": [
    "# 返回多个数组\n",
    "arr = np.random.randn(7) * 5\n",
    "remainder, whole_part = np.modf(arr)\n",
    "remainder\n",
    "whole_part"
   ]
  },
  {
   "cell_type": "markdown",
   "metadata": {},
   "source": [
    "## 利用数组进行数据处理\n",
    "用数组表达式代替循环的做法，通常被称为**矢量化**。一般来说，矢量化数组运算要比等价的纯Python方式快上一两个数量级（甚至更多），尤其是各种数值计算。在后面内容中（见附录A）我将介绍广播，这是一种针对矢量化计算的强大手段。"
   ]
  },
  {
   "cell_type": "code",
   "execution_count": 126,
   "metadata": {
    "scrolled": true
   },
   "outputs": [
    {
     "data": {
      "text/plain": [
       "array([[-15.  , -15.  , -15.  , ..., -15.  , -15.  , -15.  ],\n",
       "       [-14.99, -14.99, -14.99, ..., -14.99, -14.99, -14.99],\n",
       "       [-14.98, -14.98, -14.98, ..., -14.98, -14.98, -14.98],\n",
       "       ...,\n",
       "       [  4.97,   4.97,   4.97, ...,   4.97,   4.97,   4.97],\n",
       "       [  4.98,   4.98,   4.98, ...,   4.98,   4.98,   4.98],\n",
       "       [  4.99,   4.99,   4.99, ...,   4.99,   4.99,   4.99]])"
      ]
     },
     "execution_count": 126,
     "metadata": {},
     "output_type": "execute_result"
    }
   ],
   "source": [
    "# 例子:在一组值（网格型）上计算函数 sqrt(x^2+y^2)\n",
    "\n",
    "points = np.arange(-15, 5, 0.01)  # 1000 equally spaced points\n",
    "xs, ys = np.meshgrid(points, points)\n",
    "ys\n",
    "# np.meshgrid函数接受两个一维数组，\n",
    "# 并产生两个二维矩阵（对应于两个数组中所有的(x,y)对）"
   ]
  },
  {
   "cell_type": "code",
   "execution_count": 128,
   "metadata": {},
   "outputs": [
    {
     "data": {
      "text/plain": [
       "array([[21.21320344, 21.20613355, 21.19906602, ..., 15.8019271 ,\n",
       "        15.80507513, 15.80822887],\n",
       "       [21.20613355, 21.1990613 , 21.19199141, ..., 15.7924349 ,\n",
       "        15.79558483, 15.79874046],\n",
       "       [21.19906602, 21.19199141, 21.18491916, ..., 15.78294332,\n",
       "        15.78609515, 15.78925267],\n",
       "       ...,\n",
       "       [15.8019271 , 15.7924349 , 15.78294332, ...,  7.0286414 ,\n",
       "         7.03571603,  7.04279774],\n",
       "       [15.80507513, 15.79558483, 15.78609515, ...,  7.03571603,\n",
       "         7.04278354,  7.04985815],\n",
       "       [15.80822887, 15.79874046, 15.78925267, ...,  7.04279774,\n",
       "         7.04985815,  7.05692568]])"
      ]
     },
     "execution_count": 128,
     "metadata": {},
     "output_type": "execute_result"
    }
   ],
   "source": [
    "z = np.sqrt(xs**2+ys**2)\n",
    "z"
   ]
  },
  {
   "cell_type": "code",
   "execution_count": 133,
   "metadata": {},
   "outputs": [
    {
     "data": {
      "text/plain": [
       "Text(0.5, 1.0, 'Image plot of $\\\\sqrt{x^2 + y^2}$ for a grid of values')"
      ]
     },
     "execution_count": 133,
     "metadata": {},
     "output_type": "execute_result"
    },
    {
     "data": {
      "image/png": "[encoded data removed]",
      "text/plain": [
       "<Figure size 432x288 with 2 Axes>"
      ]
     },
     "metadata": {
      "needs_background": "light"
     },
     "output_type": "display_data"
    }
   ],
   "source": [
    "# 二维数组的可视化\n",
    "import matplotlib.pyplot as plt\n",
    "\n",
    "plt.imshow(z, cmap=plt.cm.gray)\n",
    "plt.colorbar()\n",
    "plt.title(\"Image plot of $\\sqrt{x^2 + y^2}$ for a grid of values\")"
   ]
  },
  {
   "cell_type": "markdown",
   "metadata": {},
   "source": [
    "## 将条件逻辑表述为数组运算\n",
    "\n",
    "`numpy.where`函数是三元表达式x if condition else y的矢量化版本。假设我们有一个布尔数组和两个值数组："
   ]
  },
  {
   "cell_type": "code",
   "execution_count": 134,
   "metadata": {},
   "outputs": [],
   "source": [
    "xarr = np.array([1.1, 1.2, 1.3, 1.4, 1.5])\n",
    "yarr = np.array([2.1, 2.2, 2.3, 2.4, 2.5])\n",
    "cond = np.array([True, False, True, True, False])"
   ]
  },
  {
   "cell_type": "code",
   "execution_count": 136,
   "metadata": {},
   "outputs": [
    {
     "data": {
      "text/plain": [
       "[1.1, 2.2, 1.3, 1.4, 2.5]"
      ]
     },
     "execution_count": 136,
     "metadata": {},
     "output_type": "execute_result"
    }
   ],
   "source": [
    "# 假设我们想要根据cond中的值选取xarr和yarr的值：当cond中的值为True时，\n",
    "# 选取xarr的值，否则从yarr中选取。\n",
    "\n",
    "result = [(x if c else y)for x, y, c in zip(xarr, yarr, cond)]\n",
    "result"
   ]
  },
  {
   "cell_type": "markdown",
   "metadata": {},
   "source": [
    "这有几个问题。第一，它对大数组的处理速度不是很快（因为所有工作都是由纯Python完成的）。第二，无法用于多维数组。若使用np.where，则可以将该功能写得非常简洁："
   ]
  },
  {
   "cell_type": "code",
   "execution_count": 137,
   "metadata": {},
   "outputs": [
    {
     "data": {
      "text/plain": [
       "array([1.1, 2.2, 1.3, 1.4, 2.5])"
      ]
     },
     "execution_count": 137,
     "metadata": {},
     "output_type": "execute_result"
    }
   ],
   "source": [
    "result = np.where(cond, xarr, yarr)\n",
    "result"
   ]
  },
  {
   "cell_type": "markdown",
   "metadata": {},
   "source": [
    "**np.where的第二个和第三个参数不必是数组，它们都可以是标量值。在数据分析工作中，where通常用于根据另一个数组而产生一个新的数组。**假设有一个由随机数据组成的矩阵，你希望将所有正值替换为2，将所有负值替换为－2。若利用np.where，则会非常简单："
   ]
  },
  {
   "cell_type": "code",
   "execution_count": 139,
   "metadata": {},
   "outputs": [
    {
     "data": {
      "text/plain": [
       "array([[ True, False, False, False],\n",
       "       [False, False, False, False],\n",
       "       [False,  True, False,  True],\n",
       "       [False,  True, False,  True]])"
      ]
     },
     "execution_count": 139,
     "metadata": {},
     "output_type": "execute_result"
    }
   ],
   "source": [
    "arr = np.random.randn(4, 4)\n",
    "arr > 0"
   ]
  },
  {
   "cell_type": "code",
   "execution_count": 140,
   "metadata": {},
   "outputs": [
    {
     "data": {
      "text/plain": [
       "array([[ 2, -2, -2, -2],\n",
       "       [-2, -2, -2, -2],\n",
       "       [-2,  2, -2,  2],\n",
       "       [-2,  2, -2,  2]])"
      ]
     },
     "execution_count": 140,
     "metadata": {},
     "output_type": "execute_result"
    }
   ],
   "source": [
    "np.where(arr > 0, 2, -2)"
   ]
  },
  {
   "cell_type": "markdown",
   "metadata": {},
   "source": [
    "使用np.where，可以将标量和数组结合起来。传递给where的数组大小可以不相等，甚至可以是标量值。例如，我可用常数2替换arr中所有正的值："
   ]
  },
  {
   "cell_type": "code",
   "execution_count": 141,
   "metadata": {},
   "outputs": [
    {
     "data": {
      "text/plain": [
       "array([[ 2.        , -1.67090451, -0.86196714, -0.00646435],\n",
       "       [-0.42614028, -1.61551423, -1.6917418 , -1.8297736 ],\n",
       "       [-0.62692482,  2.        , -0.04524701,  2.        ],\n",
       "       [-0.58904428,  2.        , -0.58246664,  2.        ]])"
      ]
     },
     "execution_count": 141,
     "metadata": {},
     "output_type": "execute_result"
    }
   ],
   "source": [
    "np.where(arr > 0, 2, arr)  # set only positive values to 2"
   ]
  },
  {
   "cell_type": "markdown",
   "metadata": {},
   "source": [
    "## 数学和统计方法\n",
    "\n",
    "可以通过数组上的一组数学函数对整个数组或某个轴向的数据进行统计计算。sum、mean以及标准差std等聚合计算（aggregation，通常叫做约简（reduction））既可以当做数组的实例方法调用，也可以当做顶级NumPy函数使用。\n",
    "\n",
    "基本数组统计方法：\n",
    "![](Img/7178691-a6c6df3ca8e0b98e.png)\n",
    "![](Img/7178691-866fcde885b1d357.png)"
   ]
  },
  {
   "cell_type": "code",
   "execution_count": 142,
   "metadata": {},
   "outputs": [
    {
     "data": {
      "text/plain": [
       "array([[-1.0060044 , -0.70819174, -0.47566581,  1.03814765],\n",
       "       [ 0.36793898,  0.80043492,  0.14351722,  0.85971664],\n",
       "       [ 0.33214098, -0.01085989,  0.7350142 , -1.16954906],\n",
       "       [-2.11357988,  1.24135258,  0.55217518, -0.36647698],\n",
       "       [ 0.18645153, -0.33822082, -0.67734818, -0.10614964]])"
      ]
     },
     "execution_count": 142,
     "metadata": {},
     "output_type": "execute_result"
    }
   ],
   "source": [
    "# 生成正态分布随机数据，然后做聚类分析\n",
    "arr = np.random.randn(5, 4)\n",
    "arr"
   ]
  },
  {
   "cell_type": "code",
   "execution_count": 143,
   "metadata": {},
   "outputs": [
    {
     "data": {
      "text/plain": [
       "-0.035757826216177964"
      ]
     },
     "execution_count": 143,
     "metadata": {},
     "output_type": "execute_result"
    }
   ],
   "source": [
    "arr.mean()\n",
    "# or\n",
    "np.mean(arr)"
   ]
  },
  {
   "cell_type": "code",
   "execution_count": 144,
   "metadata": {},
   "outputs": [
    {
     "data": {
      "text/plain": [
       "-0.7151565243235593"
      ]
     },
     "execution_count": 144,
     "metadata": {},
     "output_type": "execute_result"
    }
   ],
   "source": [
    "arr.sum()"
   ]
  },
  {
   "cell_type": "code",
   "execution_count": 145,
   "metadata": {},
   "outputs": [
    {
     "data": {
      "text/plain": [
       "array([-2.23305279,  0.98451504,  0.27769261,  0.25568861])"
      ]
     },
     "execution_count": 145,
     "metadata": {},
     "output_type": "execute_result"
    }
   ],
   "source": [
    "# mean和sum这类的函数可以接受一个axis选项参数，用于计算该轴向上的统计值，\n",
    "# 最终结果是一个少一维的数组：\n",
    "\n",
    "arr.mean(axis=1)  # 计算行的平均值\n",
    "arr.sum(axis=0)  # 计算每列的和"
   ]
  },
  {
   "cell_type": "code",
   "execution_count": 149,
   "metadata": {},
   "outputs": [
    {
     "data": {
      "text/plain": [
       "array([ 0,  1,  3,  6, 10, 15, 21, 28], dtype=int32)"
      ]
     },
     "execution_count": 149,
     "metadata": {},
     "output_type": "execute_result"
    }
   ],
   "source": [
    "# 其他如cumsum和cumprod之类的方法则不聚合，\n",
    "# 而是产生一个由中间结果组成的数组：\n",
    "\n",
    "arr = np.array([0, 1, 2, 3, 4, 5, 6, 7])\n",
    "arr.cumsum()  # 累加函数"
   ]
  },
  {
   "cell_type": "code",
   "execution_count": 152,
   "metadata": {},
   "outputs": [
    {
     "data": {
      "text/plain": [
       "array([[  0,   0,   0],\n",
       "       [  3,  12,  60],\n",
       "       [  6,  42, 336]], dtype=int32)"
      ]
     },
     "execution_count": 152,
     "metadata": {},
     "output_type": "execute_result"
    }
   ],
   "source": [
    "arr = np.array([[0, 1, 2], [3, 4, 5], [6, 7, 8]])\n",
    "arr.cumsum(axis=0)\n",
    "arr.cumprod(axis=1)"
   ]
  },
  {
   "cell_type": "markdown",
   "metadata": {},
   "source": [
    "## 用于布尔型数组的方法\n",
    "在数组统计积计算中，布尔值会被强制转化为1（True）和0（False。因此，`sum`经常被用来 对布尔型数组中的True计数:"
   ]
  },
  {
   "cell_type": "code",
   "execution_count": 153,
   "metadata": {},
   "outputs": [
    {
     "data": {
      "text/plain": [
       "46"
      ]
     },
     "execution_count": 153,
     "metadata": {},
     "output_type": "execute_result"
    }
   ],
   "source": [
    "arr = np.random.randn(100)\n",
    "(arr > 0).sum()  # Number of positive values"
   ]
  },
  {
   "cell_type": "code",
   "execution_count": 154,
   "metadata": {},
   "outputs": [
    {
     "data": {
      "text/plain": [
       "False"
      ]
     },
     "execution_count": 154,
     "metadata": {},
     "output_type": "execute_result"
    }
   ],
   "source": [
    "# any: 用于册数数组中是否存在一个或多个True\n",
    "# all:检查数组中所有值是否都为 True\n",
    "bools = np.array([False, False, True, False])\n",
    "bools.any()\n",
    "bools.all()"
   ]
  },
  {
   "cell_type": "markdown",
   "metadata": {},
   "source": [
    "## 排序\n",
    "\n",
    "跟 Python 内置的列表类型类似，NumPy数组也可以用过 `sort` 方法就地排序："
   ]
  },
  {
   "cell_type": "code",
   "execution_count": 157,
   "metadata": {},
   "outputs": [
    {
     "data": {
      "text/plain": [
       "array([-2.64291735, -0.90947817, -0.86968068, -0.52053525, -0.46641829,\n",
       "       -0.38384936])"
      ]
     },
     "execution_count": 157,
     "metadata": {},
     "output_type": "execute_result"
    }
   ],
   "source": [
    "# 一维数组\n",
    "arr = np.random.randn(6)\n",
    "arr.sort()\n",
    "arr"
   ]
  },
  {
   "cell_type": "code",
   "execution_count": 159,
   "metadata": {
    "scrolled": true
   },
   "outputs": [
    {
     "data": {
      "text/plain": [
       "array([[-2.24286272, -1.29354116,  0.91499514],\n",
       "       [-0.38556946,  0.28916917,  1.14490084],\n",
       "       [-0.32908456, -0.31612558,  0.41694277],\n",
       "       [-0.74547716, -0.52013128, -0.18329579],\n",
       "       [-3.07889563, -0.40542903, -0.03180835]])"
      ]
     },
     "execution_count": 159,
     "metadata": {},
     "output_type": "execute_result"
    }
   ],
   "source": [
    "# 多维数组\n",
    "# 可以在任何一个轴上排序，只需将轴编号传给 sort 即可：\n",
    "arr = np.random.randn(5, 3)\n",
    "arr\n",
    "arr.sort(1)\n",
    "arr"
   ]
  },
  {
   "cell_type": "markdown",
   "metadata": {},
   "source": [
    "顶级方法np.sort返回的是数组的已排序副本，而就地排序则会修改数组本身。计算数组分位数最简单的办法是对其进行排序，然后选取特定位置的值："
   ]
  },
  {
   "cell_type": "code",
   "execution_count": 161,
   "metadata": {
    "collapsed": true
   },
   "outputs": [
    {
     "data": {
      "text/plain": [
       "array([-2.73085895e+00, -2.60740665e+00, -2.56476761e+00, -2.55593510e+00,\n",
       "       -2.52464673e+00, -2.50577433e+00, -2.50408858e+00, -2.48350422e+00,\n",
       "       -2.44704751e+00, -2.42506009e+00, -2.41641488e+00, -2.35659390e+00,\n",
       "       -2.33243745e+00, -2.31662911e+00, -2.27550708e+00, -2.26422255e+00,\n",
       "       -2.26117481e+00, -2.25669131e+00, -2.23043509e+00, -2.19141907e+00,\n",
       "       -2.17456220e+00, -2.15384261e+00, -2.08753109e+00, -2.07409048e+00,\n",
       "       -2.05525622e+00, -2.03941477e+00, -2.03858813e+00, -2.02830199e+00,\n",
       "       -2.00082789e+00, -1.99980374e+00, -1.98468726e+00, -1.97476567e+00,\n",
       "       -1.95798920e+00, -1.93522185e+00, -1.92321546e+00, -1.91953779e+00,\n",
       "       -1.90970692e+00, -1.89691962e+00, -1.85485368e+00, -1.85044867e+00,\n",
       "       -1.84747476e+00, -1.83410098e+00, -1.81014417e+00, -1.78478739e+00,\n",
       "       -1.76496904e+00, -1.74829513e+00, -1.71837414e+00, -1.70848023e+00,\n",
       "       -1.70428072e+00, -1.69821339e+00, -1.69314772e+00, -1.68720539e+00,\n",
       "       -1.67499302e+00, -1.66949791e+00, -1.66760703e+00, -1.63651926e+00,\n",
       "       -1.63631691e+00, -1.63069117e+00, -1.58608141e+00, -1.58032204e+00,\n",
       "       -1.57300083e+00, -1.53101678e+00, -1.51770030e+00, -1.51267671e+00,\n",
       "       -1.50394674e+00, -1.49836861e+00, -1.49789075e+00, -1.48985505e+00,\n",
       "       -1.48734986e+00, -1.46366219e+00, -1.42717353e+00, -1.42529731e+00,\n",
       "       -1.42240695e+00, -1.40203099e+00, -1.40032588e+00, -1.39226877e+00,\n",
       "       -1.38921698e+00, -1.37182028e+00, -1.36814827e+00, -1.36667964e+00,\n",
       "       -1.36190239e+00, -1.35736663e+00, -1.35217157e+00, -1.35052515e+00,\n",
       "       -1.34968274e+00, -1.34516085e+00, -1.34328700e+00, -1.34122745e+00,\n",
       "       -1.33324425e+00, -1.33290653e+00, -1.31374947e+00, -1.30987416e+00,\n",
       "       -1.30520147e+00, -1.29212588e+00, -1.27780494e+00, -1.27501527e+00,\n",
       "       -1.27470258e+00, -1.27275232e+00, -1.26832408e+00, -1.26728563e+00,\n",
       "       -1.26378135e+00, -1.26196845e+00, -1.25428074e+00, -1.25232806e+00,\n",
       "       -1.24074089e+00, -1.23936728e+00, -1.23699946e+00, -1.23567022e+00,\n",
       "       -1.23142049e+00, -1.22753048e+00, -1.22675363e+00, -1.21735108e+00,\n",
       "       -1.21476934e+00, -1.21198622e+00, -1.21029824e+00, -1.20681947e+00,\n",
       "       -1.20660120e+00, -1.20493370e+00, -1.20074082e+00, -1.19883451e+00,\n",
       "       -1.18927659e+00, -1.18845071e+00, -1.17469487e+00, -1.16797176e+00,\n",
       "       -1.16561411e+00, -1.16556754e+00, -1.16311546e+00, -1.15993794e+00,\n",
       "       -1.14275029e+00, -1.14038419e+00, -1.13811468e+00, -1.13569518e+00,\n",
       "       -1.13357785e+00, -1.13191941e+00, -1.12169186e+00, -1.11760565e+00,\n",
       "       -1.11541099e+00, -1.11393960e+00, -1.11151716e+00, -1.11130071e+00,\n",
       "       -1.10677092e+00, -1.09412714e+00, -1.09318934e+00, -1.09223176e+00,\n",
       "       -1.08739269e+00, -1.08598502e+00, -1.08406679e+00, -1.08158772e+00,\n",
       "       -1.07980229e+00, -1.07114328e+00, -1.06994846e+00, -1.06823588e+00,\n",
       "       -1.06586679e+00, -1.06455779e+00, -1.06225718e+00, -1.06215313e+00,\n",
       "       -1.04656806e+00, -1.04653440e+00, -1.03880652e+00, -1.03760639e+00,\n",
       "       -1.03029463e+00, -1.02671690e+00, -1.02319699e+00, -1.02178549e+00,\n",
       "       -1.02122458e+00, -1.02034232e+00, -1.02026323e+00, -1.01465663e+00,\n",
       "       -1.01285436e+00, -1.00991346e+00, -1.00324882e+00, -1.00197094e+00,\n",
       "       -9.91609053e-01, -9.79931789e-01, -9.77421064e-01, -9.76300733e-01,\n",
       "       -9.75517332e-01, -9.73674235e-01, -9.73136566e-01, -9.72728721e-01,\n",
       "       -9.70184445e-01, -9.67268597e-01, -9.60227480e-01, -9.56992952e-01,\n",
       "       -9.48221208e-01, -9.44313134e-01, -9.44306290e-01, -9.37947420e-01,\n",
       "       -9.36832843e-01, -9.32075906e-01, -9.31968265e-01, -9.17477403e-01,\n",
       "       -9.14100949e-01, -9.10894138e-01, -9.10104298e-01, -9.08878217e-01,\n",
       "       -9.00677751e-01, -9.00246058e-01, -8.98307698e-01, -8.88099313e-01,\n",
       "       -8.84793712e-01, -8.83314098e-01, -8.71601842e-01, -8.66830844e-01,\n",
       "       -8.66191390e-01, -8.64552032e-01, -8.64474155e-01, -8.62972090e-01,\n",
       "       -8.61684498e-01, -8.53310222e-01, -8.48928184e-01, -8.48127008e-01,\n",
       "       -8.46450297e-01, -8.46304579e-01, -8.42008352e-01, -8.40250354e-01,\n",
       "       -8.36426030e-01, -8.35831805e-01, -8.33916329e-01, -8.29910765e-01,\n",
       "       -8.24662415e-01, -8.24223981e-01, -8.21702703e-01, -8.17488794e-01,\n",
       "       -8.17089630e-01, -8.05331567e-01, -8.05315534e-01, -8.01509042e-01,\n",
       "       -7.98561139e-01, -7.94493348e-01, -7.92225000e-01, -7.88995065e-01,\n",
       "       -7.86195554e-01, -7.85063200e-01, -7.84080585e-01, -7.83003360e-01,\n",
       "       -7.81917773e-01, -7.70192890e-01, -7.68920299e-01, -7.68031734e-01,\n",
       "       -7.66551719e-01, -7.62179635e-01, -7.58626190e-01, -7.55509946e-01,\n",
       "       -7.49063118e-01, -7.42773493e-01, -7.41601500e-01, -7.41538639e-01,\n",
       "       -7.39139819e-01, -7.38936210e-01, -7.32997867e-01, -7.32222004e-01,\n",
       "       -7.28887316e-01, -7.27483297e-01, -7.27183490e-01, -7.25078789e-01,\n",
       "       -7.24983738e-01, -7.18012462e-01, -7.17970781e-01, -7.17156436e-01,\n",
       "       -7.06344073e-01, -7.04642980e-01, -7.04192280e-01, -7.03759376e-01,\n",
       "       -6.98421901e-01, -6.97370326e-01, -6.91241037e-01, -6.91159850e-01,\n",
       "       -6.88750025e-01, -6.86020330e-01, -6.82448284e-01, -6.80285663e-01,\n",
       "       -6.77280677e-01, -6.76751328e-01, -6.76263288e-01, -6.75179711e-01,\n",
       "       -6.70953362e-01, -6.61826387e-01, -6.60990849e-01, -6.59458751e-01,\n",
       "       -6.52346716e-01, -6.44948064e-01, -6.43134828e-01, -6.42913242e-01,\n",
       "       -6.42108207e-01, -6.34829188e-01, -6.27585676e-01, -6.26669598e-01,\n",
       "       -6.22715739e-01, -6.14197317e-01, -6.14019174e-01, -6.09231445e-01,\n",
       "       -5.91049537e-01, -5.88077290e-01, -5.87517535e-01, -5.84630690e-01,\n",
       "       -5.81123650e-01, -5.80719830e-01, -5.79052414e-01, -5.79007589e-01,\n",
       "       -5.78921511e-01, -5.76522924e-01, -5.71312502e-01, -5.69025467e-01,\n",
       "       -5.66065803e-01, -5.65951563e-01, -5.58946691e-01, -5.55795776e-01,\n",
       "       -5.55506544e-01, -5.48510648e-01, -5.45541274e-01, -5.34611364e-01,\n",
       "       -5.31385347e-01, -5.30695165e-01, -5.29574836e-01, -5.22484047e-01,\n",
       "       -5.21089239e-01, -5.19618755e-01, -5.17412683e-01, -5.17088572e-01,\n",
       "       -5.12422616e-01, -5.11751975e-01, -5.11342033e-01, -5.10169186e-01,\n",
       "       -5.09926383e-01, -5.06246322e-01, -4.97320351e-01, -4.93221950e-01,\n",
       "       -4.85735855e-01, -4.81102573e-01, -4.79670418e-01, -4.76431552e-01,\n",
       "       -4.71792564e-01, -4.70943006e-01, -4.68086156e-01, -4.67730937e-01,\n",
       "       -4.66796613e-01, -4.60381568e-01, -4.50393155e-01, -4.45596929e-01,\n",
       "       -4.42247753e-01, -4.38014255e-01, -4.34452260e-01, -4.31443551e-01,\n",
       "       -4.28930865e-01, -4.23926775e-01, -4.22254897e-01, -4.21858840e-01,\n",
       "       -4.14457146e-01, -4.10146667e-01, -4.09885565e-01, -4.02089874e-01,\n",
       "       -4.00118848e-01, -3.95473486e-01, -3.92593591e-01, -3.76254712e-01,\n",
       "       -3.74473686e-01, -3.71501342e-01, -3.71472511e-01, -3.70818912e-01,\n",
       "       -3.69479721e-01, -3.68354943e-01, -3.68146396e-01, -3.66228402e-01,\n",
       "       -3.65048541e-01, -3.63244932e-01, -3.62703863e-01, -3.54512980e-01,\n",
       "       -3.54501954e-01, -3.51476854e-01, -3.48599745e-01, -3.42850300e-01,\n",
       "       -3.42607199e-01, -3.35336277e-01, -3.31149271e-01, -3.30302685e-01,\n",
       "       -3.30146745e-01, -3.29850048e-01, -3.28412675e-01, -3.21698051e-01,\n",
       "       -3.20104211e-01, -3.10831146e-01, -3.09360896e-01, -3.08944173e-01,\n",
       "       -3.03253638e-01, -3.00421010e-01, -2.98443481e-01, -2.95925717e-01,\n",
       "       -2.92263020e-01, -2.90761195e-01, -2.87921243e-01, -2.87785717e-01,\n",
       "       -2.85875370e-01, -2.85629609e-01, -2.84954817e-01, -2.83432856e-01,\n",
       "       -2.77268038e-01, -2.76169819e-01, -2.70872267e-01, -2.69416024e-01,\n",
       "       -2.67362501e-01, -2.66370592e-01, -2.62884294e-01, -2.56566628e-01,\n",
       "       -2.46031674e-01, -2.41087898e-01, -2.36321139e-01, -2.34500292e-01,\n",
       "       -2.33732573e-01, -2.30823563e-01, -2.27685031e-01, -2.25727332e-01,\n",
       "       -2.24154289e-01, -2.21983203e-01, -2.21483906e-01, -2.12384618e-01,\n",
       "       -2.08307498e-01, -2.07127750e-01, -2.06900406e-01, -2.06547777e-01,\n",
       "       -1.99905766e-01, -1.98894219e-01, -1.98739800e-01, -1.94747101e-01,\n",
       "       -1.92861866e-01, -1.91548226e-01, -1.81867388e-01, -1.78496466e-01,\n",
       "       -1.74405491e-01, -1.74184905e-01, -1.70722131e-01, -1.68125282e-01,\n",
       "       -1.65491961e-01, -1.64171508e-01, -1.61023031e-01, -1.56718768e-01,\n",
       "       -1.46597305e-01, -1.43343702e-01, -1.41193477e-01, -1.41187529e-01,\n",
       "       -1.40494379e-01, -1.39773379e-01, -1.33013745e-01, -1.21434850e-01,\n",
       "       -1.20389428e-01, -1.19057447e-01, -1.17712960e-01, -1.13765850e-01,\n",
       "       -1.12525626e-01, -1.11405348e-01, -1.10324889e-01, -1.07048596e-01,\n",
       "       -1.05697921e-01, -1.02548698e-01, -9.99307282e-02, -9.96571753e-02,\n",
       "       -9.81442462e-02, -9.43905516e-02, -9.31930550e-02, -9.23730319e-02,\n",
       "       -8.68365666e-02, -8.49991093e-02, -8.48561114e-02, -8.38358841e-02,\n",
       "       -8.29007222e-02, -8.24810271e-02, -8.14241816e-02, -8.13315649e-02,\n",
       "       -8.00892490e-02, -7.64914665e-02, -6.33088075e-02, -6.25844239e-02,\n",
       "       -6.24295168e-02, -6.08502711e-02, -5.87934589e-02, -4.97433563e-02,\n",
       "       -4.68998280e-02, -4.46424256e-02, -4.37385552e-02, -4.12334579e-02,\n",
       "       -3.95366765e-02, -3.86882451e-02, -3.60481190e-02, -3.32838228e-02,\n",
       "       -3.08911282e-02, -2.91476377e-02, -2.51068973e-02, -2.13118635e-02,\n",
       "       -1.61158019e-02, -1.51771321e-02, -1.29820503e-02, -1.07770820e-02,\n",
       "       -9.93887238e-03, -9.65682117e-03, -6.80892405e-03, -5.97395884e-03,\n",
       "       -5.30393259e-03, -4.69717321e-03, -2.37980084e-03,  4.97611515e-03,\n",
       "        6.44884182e-03,  8.89572282e-03,  1.61961651e-02,  1.67313052e-02,\n",
       "        1.71941819e-02,  1.91818996e-02,  2.05933511e-02,  2.16500236e-02,\n",
       "        2.52889703e-02,  2.57233371e-02,  2.93619232e-02,  3.25369087e-02,\n",
       "        3.76339594e-02,  3.81698325e-02,  3.86160018e-02,  3.92050207e-02,\n",
       "        4.06999847e-02,  4.23614272e-02,  4.94814249e-02,  5.02767964e-02,\n",
       "        5.21040957e-02,  5.21891623e-02,  5.38761735e-02,  5.53283595e-02,\n",
       "        6.04367780e-02,  6.45242895e-02,  7.09154781e-02,  7.26777206e-02,\n",
       "        8.22870346e-02,  8.60078492e-02,  8.66464276e-02,  9.09762325e-02,\n",
       "        9.19112589e-02,  9.37445309e-02,  9.38286843e-02,  9.41869776e-02,\n",
       "        9.41887275e-02,  9.43786792e-02,  9.53767180e-02,  9.74567924e-02,\n",
       "        1.04428506e-01,  1.05089417e-01,  1.05091579e-01,  1.13880759e-01,\n",
       "        1.13981201e-01,  1.14207742e-01,  1.17486643e-01,  1.19354070e-01,\n",
       "        1.19617626e-01,  1.23767812e-01,  1.24085784e-01,  1.25842187e-01,\n",
       "        1.26908343e-01,  1.29418231e-01,  1.32471266e-01,  1.33749471e-01,\n",
       "        1.36273242e-01,  1.43855583e-01,  1.47077032e-01,  1.50243033e-01,\n",
       "        1.51410533e-01,  1.53102471e-01,  1.60985444e-01,  1.65197631e-01,\n",
       "        1.77207018e-01,  1.77458835e-01,  1.77834084e-01,  1.78160931e-01,\n",
       "        1.79610417e-01,  1.79772989e-01,  1.80223975e-01,  1.80773524e-01,\n",
       "        1.89326119e-01,  1.89997662e-01,  1.95338875e-01,  1.95585272e-01,\n",
       "        2.03203619e-01,  2.04606246e-01,  2.04866390e-01,  2.13309842e-01,\n",
       "        2.13963714e-01,  2.18630267e-01,  2.24493952e-01,  2.26492767e-01,\n",
       "        2.26590134e-01,  2.27761576e-01,  2.32569975e-01,  2.32716282e-01,\n",
       "        2.43560858e-01,  2.44616280e-01,  2.45580602e-01,  2.46241869e-01,\n",
       "        2.47215944e-01,  2.49413990e-01,  2.49636612e-01,  2.50315544e-01,\n",
       "        2.52793311e-01,  2.53311687e-01,  2.53764971e-01,  2.54636786e-01,\n",
       "        2.55321012e-01,  2.57623597e-01,  2.57763126e-01,  2.63345502e-01,\n",
       "        2.66125200e-01,  2.66327024e-01,  2.69661387e-01,  2.71312446e-01,\n",
       "        2.76873443e-01,  2.79281390e-01,  2.81611191e-01,  2.85645145e-01,\n",
       "        2.89627775e-01,  3.06932429e-01,  3.12425746e-01,  3.12656569e-01,\n",
       "        3.16425974e-01,  3.19254161e-01,  3.28122709e-01,  3.28284740e-01,\n",
       "        3.29284703e-01,  3.31349725e-01,  3.31666886e-01,  3.37382209e-01,\n",
       "        3.41556582e-01,  3.43629979e-01,  3.45532709e-01,  3.46286692e-01,\n",
       "        3.46378273e-01,  3.48893605e-01,  3.50219681e-01,  3.51911807e-01,\n",
       "        3.54900636e-01,  3.56006370e-01,  3.56759908e-01,  3.59558075e-01,\n",
       "        3.66790323e-01,  3.68569504e-01,  3.70368620e-01,  3.70929636e-01,\n",
       "        3.71569672e-01,  3.72518907e-01,  3.74170758e-01,  3.76774801e-01,\n",
       "        3.79446766e-01,  3.84831819e-01,  3.87345045e-01,  3.87522227e-01,\n",
       "        3.88222032e-01,  3.88402959e-01,  3.89589820e-01,  3.89837165e-01,\n",
       "        3.92312336e-01,  3.97253477e-01,  4.00831661e-01,  4.03204119e-01,\n",
       "        4.05595935e-01,  4.06110912e-01,  4.08429741e-01,  4.13182364e-01,\n",
       "        4.18364945e-01,  4.27199818e-01,  4.28745461e-01,  4.29164067e-01,\n",
       "        4.29784366e-01,  4.33424836e-01,  4.34800175e-01,  4.38851151e-01,\n",
       "        4.39026109e-01,  4.39549031e-01,  4.42714174e-01,  4.46460123e-01,\n",
       "        4.46745168e-01,  4.47040234e-01,  4.47438787e-01,  4.47844571e-01,\n",
       "        4.48808068e-01,  4.50957377e-01,  4.55851253e-01,  4.56441743e-01,\n",
       "        4.68064359e-01,  4.72894101e-01,  4.74524818e-01,  4.82233908e-01,\n",
       "        4.84481911e-01,  4.85159919e-01,  4.86495658e-01,  4.92302322e-01,\n",
       "        4.94713042e-01,  4.95121962e-01,  4.96424863e-01,  4.98815557e-01,\n",
       "        5.04019919e-01,  5.04601475e-01,  5.08311035e-01,  5.17090715e-01,\n",
       "        5.19742913e-01,  5.24857539e-01,  5.28223149e-01,  5.30042874e-01,\n",
       "        5.36469328e-01,  5.36991718e-01,  5.43590983e-01,  5.44736626e-01,\n",
       "        5.47637231e-01,  5.48135426e-01,  5.50664011e-01,  5.53298806e-01,\n",
       "        5.53703475e-01,  5.59737747e-01,  5.60118348e-01,  5.61071207e-01,\n",
       "        5.61232261e-01,  5.66794053e-01,  5.70191958e-01,  5.81354520e-01,\n",
       "        5.83682450e-01,  5.84786523e-01,  5.86169962e-01,  5.91331739e-01,\n",
       "        5.99402705e-01,  6.05147968e-01,  6.05178347e-01,  6.07252825e-01,\n",
       "        6.08140525e-01,  6.11495465e-01,  6.13232508e-01,  6.15081719e-01,\n",
       "        6.17024278e-01,  6.19653170e-01,  6.20921500e-01,  6.22842603e-01,\n",
       "        6.25286793e-01,  6.33618641e-01,  6.35094639e-01,  6.37963163e-01,\n",
       "        6.40513230e-01,  6.44890604e-01,  6.47612555e-01,  6.57950727e-01,\n",
       "        6.59749666e-01,  6.59867992e-01,  6.61297324e-01,  6.62517118e-01,\n",
       "        6.62636086e-01,  6.66801725e-01,  6.70035436e-01,  6.71993595e-01,\n",
       "        6.73744500e-01,  6.75105629e-01,  6.77231436e-01,  6.81119937e-01,\n",
       "        6.83342384e-01,  6.84983707e-01,  6.85259866e-01,  6.90374180e-01,\n",
       "        6.92440070e-01,  6.93591487e-01,  6.93694447e-01,  6.98064700e-01,\n",
       "        7.14497656e-01,  7.16590084e-01,  7.17628367e-01,  7.24508163e-01,\n",
       "        7.27061335e-01,  7.28347627e-01,  7.29535824e-01,  7.34177891e-01,\n",
       "        7.36085397e-01,  7.36696943e-01,  7.38212383e-01,  7.42429388e-01,\n",
       "        7.55848070e-01,  7.63467462e-01,  7.66069405e-01,  7.67426476e-01,\n",
       "        7.80862494e-01,  7.82684061e-01,  7.90926853e-01,  7.91404667e-01,\n",
       "        7.91476537e-01,  7.96884582e-01,  7.99133690e-01,  8.02533124e-01,\n",
       "        8.05023903e-01,  8.08868796e-01,  8.09927403e-01,  8.09941285e-01,\n",
       "        8.17848003e-01,  8.28829110e-01,  8.30331998e-01,  8.31446557e-01,\n",
       "        8.40622002e-01,  8.47754329e-01,  8.48144724e-01,  8.48506951e-01,\n",
       "        8.54594636e-01,  8.55828942e-01,  8.56156346e-01,  8.58484323e-01,\n",
       "        8.60207984e-01,  8.62473949e-01,  8.67260932e-01,  8.70064879e-01,\n",
       "        8.73602654e-01,  8.76730146e-01,  8.76982380e-01,  8.77821655e-01,\n",
       "        8.83033298e-01,  8.85894827e-01,  8.87363375e-01,  8.90143336e-01,\n",
       "        8.90172971e-01,  8.95634921e-01,  9.04563986e-01,  9.06923856e-01,\n",
       "        9.07301233e-01,  9.09285723e-01,  9.14491348e-01,  9.16766393e-01,\n",
       "        9.17495307e-01,  9.17675801e-01,  9.18057542e-01,  9.23782655e-01,\n",
       "        9.27908585e-01,  9.28088651e-01,  9.35976212e-01,  9.36473196e-01,\n",
       "        9.44010886e-01,  9.46796271e-01,  9.51729731e-01,  9.57957314e-01,\n",
       "        9.58750231e-01,  9.59149046e-01,  9.62548207e-01,  9.63229885e-01,\n",
       "        9.69199257e-01,  9.76238722e-01,  9.79234479e-01,  9.82855720e-01,\n",
       "        1.00827899e+00,  1.00958638e+00,  1.01241073e+00,  1.01317753e+00,\n",
       "        1.01377023e+00,  1.01952439e+00,  1.01997147e+00,  1.02549469e+00,\n",
       "        1.02857593e+00,  1.03161112e+00,  1.03758846e+00,  1.04137116e+00,\n",
       "        1.04924598e+00,  1.05090195e+00,  1.06040388e+00,  1.06139035e+00,\n",
       "        1.06261867e+00,  1.07021565e+00,  1.07362271e+00,  1.07835461e+00,\n",
       "        1.09259869e+00,  1.10014716e+00,  1.10661163e+00,  1.10835285e+00,\n",
       "        1.11128136e+00,  1.11713160e+00,  1.11991035e+00,  1.12114759e+00,\n",
       "        1.12524772e+00,  1.13096503e+00,  1.13527741e+00,  1.13613627e+00,\n",
       "        1.14055923e+00,  1.15830039e+00,  1.18744822e+00,  1.18894651e+00,\n",
       "        1.18982432e+00,  1.21048396e+00,  1.21422244e+00,  1.22239412e+00,\n",
       "        1.22875783e+00,  1.23348551e+00,  1.24652264e+00,  1.25178945e+00,\n",
       "        1.25706707e+00,  1.26652157e+00,  1.27366062e+00,  1.27562756e+00,\n",
       "        1.27844761e+00,  1.28159807e+00,  1.29504863e+00,  1.29549088e+00,\n",
       "        1.29848552e+00,  1.30669914e+00,  1.30862482e+00,  1.31127282e+00,\n",
       "        1.31158138e+00,  1.32922606e+00,  1.32944897e+00,  1.33710759e+00,\n",
       "        1.34184523e+00,  1.34374520e+00,  1.34753400e+00,  1.35609893e+00,\n",
       "        1.36899164e+00,  1.37190723e+00,  1.38585849e+00,  1.38748825e+00,\n",
       "        1.41570765e+00,  1.41846494e+00,  1.42428751e+00,  1.42973775e+00,\n",
       "        1.43364285e+00,  1.43625072e+00,  1.43806023e+00,  1.43814328e+00,\n",
       "        1.44000935e+00,  1.44330445e+00,  1.44453694e+00,  1.44840990e+00,\n",
       "        1.45454477e+00,  1.46094432e+00,  1.46143229e+00,  1.46159812e+00,\n",
       "        1.46244275e+00,  1.46615284e+00,  1.47200922e+00,  1.47838464e+00,\n",
       "        1.49771391e+00,  1.50045370e+00,  1.50552228e+00,  1.51167812e+00,\n",
       "        1.53029144e+00,  1.55809569e+00,  1.56074352e+00,  1.58817526e+00,\n",
       "        1.65149966e+00,  1.66292042e+00,  1.66442114e+00,  1.67147184e+00,\n",
       "        1.67223320e+00,  1.67368127e+00,  1.67454301e+00,  1.67569840e+00,\n",
       "        1.68829505e+00,  1.68897161e+00,  1.69131066e+00,  1.70621137e+00,\n",
       "        1.71199754e+00,  1.71367235e+00,  1.72346903e+00,  1.77824908e+00,\n",
       "        1.79383806e+00,  1.80071825e+00,  1.82684269e+00,  1.82739002e+00,\n",
       "        1.83937884e+00,  1.84467492e+00,  1.84492791e+00,  1.85561687e+00,\n",
       "        1.85679514e+00,  1.86043252e+00,  1.86561233e+00,  1.87340064e+00,\n",
       "        1.87692116e+00,  1.89318587e+00,  1.91795347e+00,  1.92140588e+00,\n",
       "        1.96366211e+00,  1.97551937e+00,  2.01112237e+00,  2.01712831e+00,\n",
       "        2.03180517e+00,  2.03382970e+00,  2.04160826e+00,  2.04679932e+00,\n",
       "        2.06539975e+00,  2.08640681e+00,  2.12060407e+00,  2.12880231e+00,\n",
       "        2.14146113e+00,  2.15755626e+00,  2.15971816e+00,  2.16250676e+00,\n",
       "        2.21312502e+00,  2.29121666e+00,  2.29345156e+00,  2.31304390e+00,\n",
       "        2.32134957e+00,  2.33282580e+00,  2.36940506e+00,  2.38928766e+00,\n",
       "        2.39154031e+00,  2.46442744e+00,  2.50852632e+00,  2.55073072e+00,\n",
       "        2.55618963e+00,  2.58744494e+00,  2.65869056e+00,  3.04272340e+00])"
      ]
     },
     "execution_count": 161,
     "metadata": {},
     "output_type": "execute_result"
    }
   ],
   "source": [
    "large_arr = np.random.randn(1000)\n",
    "large_arr.sort()\n",
    "large_arr"
   ]
  },
  {
   "cell_type": "code",
   "execution_count": 162,
   "metadata": {},
   "outputs": [
    {
     "data": {
      "text/plain": [
       "-1.6931477181575139"
      ]
     },
     "execution_count": 162,
     "metadata": {},
     "output_type": "execute_result"
    }
   ],
   "source": [
    "large_arr[int(0.05 * len(large_arr))]  # 5% quantile"
   ]
  },
  {
   "cell_type": "markdown",
   "metadata": {},
   "source": [
    "## 唯一化以及其它集合逻辑\n",
    "\n",
    "NumPy提供了一些针对一维ndarray的基本集合运算。NumPy的集合函数：\n",
    "\n",
    "![](Img/7178691-80e85ae6b9c89ada.png)\n",
    "\n",
    "\n",
    "最常用的可能要数np.unique了，它用于找出数组中的唯一值并返回已排序的结果："
   ]
  },
  {
   "cell_type": "code",
   "execution_count": 163,
   "metadata": {},
   "outputs": [
    {
     "data": {
      "text/plain": [
       "array(['Bob', 'Joe', 'Will'], dtype='<U4')"
      ]
     },
     "execution_count": 163,
     "metadata": {},
     "output_type": "execute_result"
    }
   ],
   "source": [
    "names = np.array(['Bob', 'Joe', 'Will', 'Bob', 'Will', 'Joe', 'Joe'])\n",
    "np.unique(names)"
   ]
  },
  {
   "cell_type": "code",
   "execution_count": 165,
   "metadata": {},
   "outputs": [
    {
     "data": {
      "text/plain": [
       "array([1, 2, 3, 4])"
      ]
     },
     "execution_count": 165,
     "metadata": {},
     "output_type": "execute_result"
    }
   ],
   "source": [
    "ints = np.array([3, 3, 3, 3, 2, 2, 1, 1, 4, 4, ])\n",
    "np.unique(ints)"
   ]
  },
  {
   "cell_type": "code",
   "execution_count": 166,
   "metadata": {},
   "outputs": [
    {
     "data": {
      "text/plain": [
       "['Bob', 'Joe', 'Will']"
      ]
     },
     "execution_count": 166,
     "metadata": {},
     "output_type": "execute_result"
    }
   ],
   "source": [
    "# 纯 Python 代码\n",
    "sorted(set(names))"
   ]
  },
  {
   "cell_type": "markdown",
   "metadata": {},
   "source": [
    "另一个函数np.in1d用于测试一个数组中的值在另一个数组中的成员资格，返回一个布尔型数组："
   ]
  },
  {
   "cell_type": "code",
   "execution_count": 167,
   "metadata": {},
   "outputs": [
    {
     "data": {
      "text/plain": [
       "array([ True, False, False, False,  True,  True, False,  True])"
      ]
     },
     "execution_count": 167,
     "metadata": {},
     "output_type": "execute_result"
    }
   ],
   "source": [
    "values = np.array([6, 0, 0, 0, 3, 2, 5, 6])\n",
    "np.in1d(values, [2, 3, 6])"
   ]
  },
  {
   "cell_type": "markdown",
   "metadata": {},
   "source": [
    "## 用于数组的文件输入输出\n",
    "\n",
    "NumPy能够读写磁盘上的文本数据或者二进制文件。本小节只讨论NumPy的内置二进制格式，因为我们会更多的使用Pandas或其他的工具加载文本或者表格数据。\n",
    "    \n",
    "np.save和np.load是读写磁盘数组数据的两个主要函数。默认情况下，数组是以未压缩的原始二进制格式保存在扩展名为.npy的文件中的："
   ]
  },
  {
   "cell_type": "code",
   "execution_count": 171,
   "metadata": {},
   "outputs": [],
   "source": [
    "arr = np.arange(10)\n",
    "np.save('Examples\\some_array', arr)\n",
    "# 如果文件路径末尾没有扩展名.npy，则该扩展名会被自动加上。"
   ]
  },
  {
   "cell_type": "code",
   "execution_count": 172,
   "metadata": {},
   "outputs": [
    {
     "data": {
      "text/plain": [
       "array([0, 1, 2, 3, 4, 5, 6, 7, 8, 9])"
      ]
     },
     "execution_count": 172,
     "metadata": {},
     "output_type": "execute_result"
    }
   ],
   "source": [
    "# 读取磁盘上的数组\n",
    "np.load('Examples\\some_array.npy')"
   ]
  },
  {
   "cell_type": "code",
   "execution_count": 175,
   "metadata": {},
   "outputs": [],
   "source": [
    "# 通过np.savez可以将多个数组保存到一个未压缩文件中，\n",
    "# 将数组以关键字参数的形式传入即可：\n",
    "np.savez('array_archive.npz', a=arr, b=arr)"
   ]
  },
  {
   "cell_type": "code",
   "execution_count": 177,
   "metadata": {},
   "outputs": [
    {
     "data": {
      "text/plain": [
       "array([0, 1, 2, 3, 4, 5, 6, 7, 8, 9])"
      ]
     },
     "execution_count": 177,
     "metadata": {},
     "output_type": "execute_result"
    }
   ],
   "source": [
    "# 加载.npz文件时，你会得到一个类似字典的对象，\n",
    "# 该对象会对各个数组进行延迟加载：\n",
    "arch = np.load('array_archive.npz')\n",
    "arch['b']"
   ]
  },
  {
   "cell_type": "code",
   "execution_count": 178,
   "metadata": {},
   "outputs": [],
   "source": [
    "# 如果要将数据压缩，可以使用numpy.savez_compressed:\n",
    "np.savez_compressed('arrays_compressed.npz', a=arr, b=arr)"
   ]
  },
  {
   "cell_type": "markdown",
   "metadata": {},
   "source": [
    "## 线性代数\n",
    "\n",
    "最常用的线性代数函数：\n",
    "![](Img/7178691-dcdb66e49e5f70ea.png)\n"
   ]
  },
  {
   "cell_type": "markdown",
   "metadata": {},
   "source": [
    "## 伪随机数生成\n",
    "\n",
    "numpy.random模块对Python内置的random进行了补充，增加了一些用于高效生成多种概率分布的样本值的函数。\n",
    "\n",
    "![](Img/7178691-97ba09c96dab93a2.png)\n",
    "\n",
    "例如，你可以用normal来得到一个标准正态分布的4×4样本数组："
   ]
  },
  {
   "cell_type": "code",
   "execution_count": 179,
   "metadata": {},
   "outputs": [
    {
     "data": {
      "text/plain": [
       "array([[ 0.33312255,  0.09280509,  0.59234755,  0.14379462],\n",
       "       [-0.13994311, -0.43594354,  0.99509265,  0.6752012 ],\n",
       "       [ 0.85832371, -0.2550142 ,  1.28766481, -0.50119395],\n",
       "       [-0.74329554, -0.36015071, -0.60390453, -2.46375325]])"
      ]
     },
     "execution_count": 179,
     "metadata": {},
     "output_type": "execute_result"
    }
   ],
   "source": [
    "samples = np.random.normal(size=(4, 4))\n",
    "samples"
   ]
  },
  {
   "cell_type": "markdown",
   "metadata": {},
   "source": [
    "而Python内置的random模块则只能一次生成一个样本值。从下面的测试结果中可以看出，如果需要产生大量样本值，numpy.random快了不止一个数量级："
   ]
  },
  {
   "cell_type": "code",
   "execution_count": 181,
   "metadata": {},
   "outputs": [
    {
     "name": "stdout",
     "output_type": "stream",
     "text": [
      "1.12 ms ± 50.6 µs per loop (mean ± std. dev. of 7 runs, 1000 loops each)\n"
     ]
    }
   ],
   "source": [
    "from random import normalvariate\n",
    "N = 1000\n",
    "%timeit samples = [normalvariate(0, 1) for _ in range(N)]"
   ]
  },
  {
   "cell_type": "code",
   "execution_count": 182,
   "metadata": {},
   "outputs": [
    {
     "name": "stdout",
     "output_type": "stream",
     "text": [
      "42.7 µs ± 2.13 µs per loop (mean ± std. dev. of 7 runs, 10000 loops each)\n"
     ]
    }
   ],
   "source": [
    "%timeit np.random.normal(size=N)"
   ]
  },
  {
   "cell_type": "code",
   "execution_count": null,
   "metadata": {},
   "outputs": [],
   "source": []
  },
  {
   "cell_type": "code",
   "execution_count": null,
   "metadata": {},
   "outputs": [],
   "source": []
  },
  {
   "cell_type": "code",
   "execution_count": null,
   "metadata": {},
   "outputs": [],
   "source": []
  }
 ],
 "metadata": {
  "kernelspec": {
   "display_name": "Python 3",
   "language": "python",
   "name": "python3"
  },
  "language_info": {
   "codemirror_mode": {
    "name": "ipython",
    "version": 3
   },
   "file_extension": ".py",
   "mimetype": "text/x-python",
   "name": "python",
   "nbconvert_exporter": "python",
   "pygments_lexer": "ipython3",
   "version": "3.7.4"
  },
  "toc": {
   "base_numbering": 1,
   "nav_menu": {},
   "number_sections": true,
   "sideBar": true,
   "skip_h1_title": false,
   "title_cell": "Table of Contents",
   "title_sidebar": "Contents",
   "toc_cell": false,
   "toc_position": {
    "height": "calc(100% - 180px)",
    "left": "10px",
    "top": "150px",
    "width": "256px"
   },
   "toc_section_display": true,
   "toc_window_display": true
  }
 },
 "nbformat": 4,
 "nbformat_minor": 2
}
